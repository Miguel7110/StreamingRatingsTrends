{
 "cells": [
  {
   "cell_type": "code",
   "execution_count": 130,
   "metadata": {},
   "outputs": [],
   "source": [
    "import pandas as pd\n",
    "import numpy as np\n",
    "from warnings import warn\n",
    "import dask.dataframe as dd\n",
    "import matplotlib.pyplot as plt\n",
    "pd.set_option('display.max_columns', None) \n",
    "pd.set_option('display.max_rows', None)\n",
    "pd.set_option('display.float_format', '{:.2f}'.format)"
   ]
  },
  {
   "cell_type": "code",
   "execution_count": 131,
   "metadata": {},
   "outputs": [
    {
     "name": "stdout",
     "output_type": "stream",
     "text": [
      "\"id\",\"title\",\"vote_average\",\"vote_count\",\"status\",\"release_date\",\"revenue\",\"runtime\",\"adult\",\"backdrop_path\",\"budget\",\"homepage\",\"imdb_id\",\"original_language\",\"original_title\",\"overview\",\"popularity\",\"poster_path\",\"tagline\",\"genres\",\"production_companies\",\"production_countries\",\"spoken_languages\",\"keywords\"\n",
      "\n",
      "\"27205\",\"Inception\",\"8.364\",\"34495\",\"Released\",\"2010-07-15\",\"825532764\",\"148\",\"False\",\"/8ZTVqvKDQ8emSGUEMjsS4yHAwrp.jpg\",\"160000000\",\"https://www.warnerbros.com/movies/inception\",\"tt1375666\",\"en\",\"Inception\",\"Cobb, a skilled thief who commits corporate espionage by infiltrating the subconscious of his targets is offered a chance to regain his old life as payment for a task considered to be impossible: \"\"inception\"\", the implantation of another person's idea into a target's subconscious.\",\"83.952\",\"/oYuLEt3zVCKq57qu2F8dT7NIa6f.jpg\",\"Your mind is the scene of the crime.\",\"Action, Science Fiction, Adventure\",\"Legendary Pictures, Syncopy, Warner Bros. Pictures\",\"United Kingdom, United States of America\",\"English, French, Japanese, Swahili\",\"rescue, mission, dream, airplane, paris, france, virtual reality, kidnapping, philosophy, spy, allegory, manipulation, car crash, heist, memory, architecture, los angeles, california, dream world, subconscious\"\n",
      "\n",
      "\"157336\",\"Interstellar\",\"8.417\",\"32571\",\"Released\",\"2014-11-05\",\"701729206\",\"169\",\"False\",\"/pbrkL804c8yAv3zBZR4QPEafpAR.jpg\",\"165000000\",\"http://www.interstellarmovie.net/\",\"tt0816692\",\"en\",\"Interstellar\",\"The adventures of a group of explorers who make use of a newly discovered wormhole to surpass the limitations on human space travel and conquer the vast distances involved in an interstellar voyage.\",\"140.241\",\"/gEU2QniE6E77NI6lCU6MxlNBvIx.jpg\",\"Mankind was born on Earth. It was never meant to die here.\",\"Adventure, Drama, Science Fiction\",\"Legendary Pictures, Syncopy, Lynda Obst Productions\",\"United Kingdom, United States of America\",\"English\",\"rescue, future, spacecraft, race against time, artificial intelligence (a.i.), nasa, time warp, dystopia, expedition, space travel, wormhole, famine, black hole, quantum mechanics, family relationships, space, robot, astronaut, scientist, single father, farmer, space station, curious, space adventure, time paradox, thoughtful, time-manipulation, father daughter relationship, 2060s, cornfield, time manipulation, complicated\"\n",
      "\n"
     ]
    }
   ],
   "source": [
    "with open(r'C:\\Users\\Chamo\\Desktop\\Python\\mis_paquetes\\Proyecto_movie\\TMDB_movie_dataset_v11.csv', 'r') as tmdb:\n",
    "    for i in range(3):                 # esta delimitado por \",\" \n",
    "        print(tmdb.readline())"
   ]
  },
  {
   "cell_type": "code",
   "execution_count": 132,
   "metadata": {},
   "outputs": [],
   "source": [
    "df_tmdb = dd.read_csv(r'C:\\Users\\Chamo\\Desktop\\Python\\mis_paquetes\\Proyecto_movie\\TMDB_movie_dataset_v11.csv',\\\n",
    "                      sep=',', na_values='\\\\N', low_memory=False)"
   ]
  },
  {
   "cell_type": "code",
   "execution_count": 133,
   "metadata": {},
   "outputs": [
    {
     "data": {
      "text/html": [
       "<div>\n",
       "<style scoped>\n",
       "    .dataframe tbody tr th:only-of-type {\n",
       "        vertical-align: middle;\n",
       "    }\n",
       "\n",
       "    .dataframe tbody tr th {\n",
       "        vertical-align: top;\n",
       "    }\n",
       "\n",
       "    .dataframe thead th {\n",
       "        text-align: right;\n",
       "    }\n",
       "</style>\n",
       "<table border=\"1\" class=\"dataframe\">\n",
       "  <thead>\n",
       "    <tr style=\"text-align: right;\">\n",
       "      <th></th>\n",
       "      <th>id</th>\n",
       "      <th>title</th>\n",
       "      <th>vote_average</th>\n",
       "      <th>vote_count</th>\n",
       "      <th>status</th>\n",
       "      <th>release_date</th>\n",
       "      <th>revenue</th>\n",
       "      <th>runtime</th>\n",
       "      <th>adult</th>\n",
       "      <th>backdrop_path</th>\n",
       "      <th>budget</th>\n",
       "      <th>homepage</th>\n",
       "      <th>imdb_id</th>\n",
       "      <th>original_language</th>\n",
       "      <th>original_title</th>\n",
       "      <th>overview</th>\n",
       "      <th>popularity</th>\n",
       "      <th>poster_path</th>\n",
       "      <th>tagline</th>\n",
       "      <th>genres</th>\n",
       "      <th>production_companies</th>\n",
       "      <th>production_countries</th>\n",
       "      <th>spoken_languages</th>\n",
       "      <th>keywords</th>\n",
       "    </tr>\n",
       "  </thead>\n",
       "  <tbody>\n",
       "    <tr>\n",
       "      <th>0</th>\n",
       "      <td>27205</td>\n",
       "      <td>Inception</td>\n",
       "      <td>8.36</td>\n",
       "      <td>34495</td>\n",
       "      <td>Released</td>\n",
       "      <td>2010-07-15</td>\n",
       "      <td>825532764</td>\n",
       "      <td>148</td>\n",
       "      <td>False</td>\n",
       "      <td>/8ZTVqvKDQ8emSGUEMjsS4yHAwrp.jpg</td>\n",
       "      <td>160000000</td>\n",
       "      <td>https://www.warnerbros.com/movies/inception</td>\n",
       "      <td>tt1375666</td>\n",
       "      <td>en</td>\n",
       "      <td>Inception</td>\n",
       "      <td>Cobb, a skilled thief who commits corporate es...</td>\n",
       "      <td>83.95</td>\n",
       "      <td>/oYuLEt3zVCKq57qu2F8dT7NIa6f.jpg</td>\n",
       "      <td>Your mind is the scene of the crime.</td>\n",
       "      <td>Action, Science Fiction, Adventure</td>\n",
       "      <td>Legendary Pictures, Syncopy, Warner Bros. Pict...</td>\n",
       "      <td>United Kingdom, United States of America</td>\n",
       "      <td>English, French, Japanese, Swahili</td>\n",
       "      <td>rescue, mission, dream, airplane, paris, franc...</td>\n",
       "    </tr>\n",
       "    <tr>\n",
       "      <th>1</th>\n",
       "      <td>157336</td>\n",
       "      <td>Interstellar</td>\n",
       "      <td>8.42</td>\n",
       "      <td>32571</td>\n",
       "      <td>Released</td>\n",
       "      <td>2014-11-05</td>\n",
       "      <td>701729206</td>\n",
       "      <td>169</td>\n",
       "      <td>False</td>\n",
       "      <td>/pbrkL804c8yAv3zBZR4QPEafpAR.jpg</td>\n",
       "      <td>165000000</td>\n",
       "      <td>http://www.interstellarmovie.net/</td>\n",
       "      <td>tt0816692</td>\n",
       "      <td>en</td>\n",
       "      <td>Interstellar</td>\n",
       "      <td>The adventures of a group of explorers who mak...</td>\n",
       "      <td>140.24</td>\n",
       "      <td>/gEU2QniE6E77NI6lCU6MxlNBvIx.jpg</td>\n",
       "      <td>Mankind was born on Earth. It was never meant ...</td>\n",
       "      <td>Adventure, Drama, Science Fiction</td>\n",
       "      <td>Legendary Pictures, Syncopy, Lynda Obst Produc...</td>\n",
       "      <td>United Kingdom, United States of America</td>\n",
       "      <td>English</td>\n",
       "      <td>rescue, future, spacecraft, race against time,...</td>\n",
       "    </tr>\n",
       "    <tr>\n",
       "      <th>2</th>\n",
       "      <td>155</td>\n",
       "      <td>The Dark Knight</td>\n",
       "      <td>8.51</td>\n",
       "      <td>30619</td>\n",
       "      <td>Released</td>\n",
       "      <td>2008-07-16</td>\n",
       "      <td>1004558444</td>\n",
       "      <td>152</td>\n",
       "      <td>False</td>\n",
       "      <td>/nMKdUUepR0i5zn0y1T4CsSB5chy.jpg</td>\n",
       "      <td>185000000</td>\n",
       "      <td>https://www.warnerbros.com/movies/dark-knight/</td>\n",
       "      <td>tt0468569</td>\n",
       "      <td>en</td>\n",
       "      <td>The Dark Knight</td>\n",
       "      <td>Batman raises the stakes in his war on crime. ...</td>\n",
       "      <td>130.64</td>\n",
       "      <td>/qJ2tW6WMUDux911r6m7haRef0WH.jpg</td>\n",
       "      <td>Welcome to a world without rules.</td>\n",
       "      <td>Drama, Action, Crime, Thriller</td>\n",
       "      <td>DC Comics, Legendary Pictures, Syncopy, Isobel...</td>\n",
       "      <td>United Kingdom, United States of America</td>\n",
       "      <td>English, Mandarin</td>\n",
       "      <td>joker, sadism, chaos, secret identity, crime f...</td>\n",
       "    </tr>\n",
       "  </tbody>\n",
       "</table>\n",
       "</div>"
      ],
      "text/plain": [
       "       id            title  vote_average  vote_count    status release_date  \\\n",
       "0   27205        Inception          8.36       34495  Released   2010-07-15   \n",
       "1  157336     Interstellar          8.42       32571  Released   2014-11-05   \n",
       "2     155  The Dark Knight          8.51       30619  Released   2008-07-16   \n",
       "\n",
       "      revenue  runtime  adult                     backdrop_path     budget  \\\n",
       "0   825532764      148  False  /8ZTVqvKDQ8emSGUEMjsS4yHAwrp.jpg  160000000   \n",
       "1   701729206      169  False  /pbrkL804c8yAv3zBZR4QPEafpAR.jpg  165000000   \n",
       "2  1004558444      152  False  /nMKdUUepR0i5zn0y1T4CsSB5chy.jpg  185000000   \n",
       "\n",
       "                                         homepage    imdb_id  \\\n",
       "0     https://www.warnerbros.com/movies/inception  tt1375666   \n",
       "1               http://www.interstellarmovie.net/  tt0816692   \n",
       "2  https://www.warnerbros.com/movies/dark-knight/  tt0468569   \n",
       "\n",
       "  original_language   original_title  \\\n",
       "0                en        Inception   \n",
       "1                en     Interstellar   \n",
       "2                en  The Dark Knight   \n",
       "\n",
       "                                            overview  popularity  \\\n",
       "0  Cobb, a skilled thief who commits corporate es...       83.95   \n",
       "1  The adventures of a group of explorers who mak...      140.24   \n",
       "2  Batman raises the stakes in his war on crime. ...      130.64   \n",
       "\n",
       "                        poster_path  \\\n",
       "0  /oYuLEt3zVCKq57qu2F8dT7NIa6f.jpg   \n",
       "1  /gEU2QniE6E77NI6lCU6MxlNBvIx.jpg   \n",
       "2  /qJ2tW6WMUDux911r6m7haRef0WH.jpg   \n",
       "\n",
       "                                             tagline  \\\n",
       "0               Your mind is the scene of the crime.   \n",
       "1  Mankind was born on Earth. It was never meant ...   \n",
       "2                  Welcome to a world without rules.   \n",
       "\n",
       "                               genres  \\\n",
       "0  Action, Science Fiction, Adventure   \n",
       "1   Adventure, Drama, Science Fiction   \n",
       "2      Drama, Action, Crime, Thriller   \n",
       "\n",
       "                                production_companies  \\\n",
       "0  Legendary Pictures, Syncopy, Warner Bros. Pict...   \n",
       "1  Legendary Pictures, Syncopy, Lynda Obst Produc...   \n",
       "2  DC Comics, Legendary Pictures, Syncopy, Isobel...   \n",
       "\n",
       "                       production_countries  \\\n",
       "0  United Kingdom, United States of America   \n",
       "1  United Kingdom, United States of America   \n",
       "2  United Kingdom, United States of America   \n",
       "\n",
       "                     spoken_languages  \\\n",
       "0  English, French, Japanese, Swahili   \n",
       "1                             English   \n",
       "2                   English, Mandarin   \n",
       "\n",
       "                                            keywords  \n",
       "0  rescue, mission, dream, airplane, paris, franc...  \n",
       "1  rescue, future, spacecraft, race against time,...  \n",
       "2  joker, sadism, chaos, secret identity, crime f...  "
      ]
     },
     "execution_count": 133,
     "metadata": {},
     "output_type": "execute_result"
    }
   ],
   "source": [
    "df_tmdb.head(3)"
   ]
  },
  {
   "cell_type": "code",
   "execution_count": 134,
   "metadata": {},
   "outputs": [
    {
     "data": {
      "text/plain": [
       "1050797"
      ]
     },
     "execution_count": 134,
     "metadata": {},
     "output_type": "execute_result"
    }
   ],
   "source": [
    "df_tmdb.shape[0].compute()"
   ]
  },
  {
   "cell_type": "code",
   "execution_count": 135,
   "metadata": {},
   "outputs": [],
   "source": [
    "df_tmdb = df_tmdb.compute() # Combierto a df de pandas "
   ]
  },
  {
   "cell_type": "code",
   "execution_count": 136,
   "metadata": {},
   "outputs": [
    {
     "data": {
      "text/plain": [
       "pandas.core.frame.DataFrame"
      ]
     },
     "execution_count": 136,
     "metadata": {},
     "output_type": "execute_result"
    }
   ],
   "source": [
    "type(df_tmdb)"
   ]
  },
  {
   "cell_type": "code",
   "execution_count": 137,
   "metadata": {},
   "outputs": [],
   "source": [
    "# Solo me quedo con lo balores en bugget y revenue mayores a 0.\n",
    "df_tmdb = df_tmdb[(df_tmdb['budget']>0) & (df_tmdb['revenue']>0)] \n"
   ]
  },
  {
   "cell_type": "code",
   "execution_count": 138,
   "metadata": {},
   "outputs": [
    {
     "data": {
      "text/plain": [
       "13542"
      ]
     },
     "execution_count": 138,
     "metadata": {},
     "output_type": "execute_result"
    }
   ],
   "source": [
    "df_tmdb.shape[0]"
   ]
  },
  {
   "cell_type": "code",
   "execution_count": 139,
   "metadata": {},
   "outputs": [],
   "source": [
    "# uso estadistica para crear una columna con el ROI de las producciones.\n",
    "df_tmdb['roi'] = (df_tmdb['revenue'] - df_tmdb['budget']) / df_tmdb['budget']"
   ]
  },
  {
   "cell_type": "code",
   "execution_count": 140,
   "metadata": {},
   "outputs": [
    {
     "data": {
      "text/html": [
       "<div>\n",
       "<style scoped>\n",
       "    .dataframe tbody tr th:only-of-type {\n",
       "        vertical-align: middle;\n",
       "    }\n",
       "\n",
       "    .dataframe tbody tr th {\n",
       "        vertical-align: top;\n",
       "    }\n",
       "\n",
       "    .dataframe thead th {\n",
       "        text-align: right;\n",
       "    }\n",
       "</style>\n",
       "<table border=\"1\" class=\"dataframe\">\n",
       "  <thead>\n",
       "    <tr style=\"text-align: right;\">\n",
       "      <th></th>\n",
       "      <th>id</th>\n",
       "      <th>title</th>\n",
       "      <th>vote_average</th>\n",
       "      <th>vote_count</th>\n",
       "      <th>status</th>\n",
       "      <th>release_date</th>\n",
       "      <th>revenue</th>\n",
       "      <th>runtime</th>\n",
       "      <th>adult</th>\n",
       "      <th>backdrop_path</th>\n",
       "      <th>budget</th>\n",
       "      <th>homepage</th>\n",
       "      <th>imdb_id</th>\n",
       "      <th>original_language</th>\n",
       "      <th>original_title</th>\n",
       "      <th>overview</th>\n",
       "      <th>popularity</th>\n",
       "      <th>poster_path</th>\n",
       "      <th>tagline</th>\n",
       "      <th>genres</th>\n",
       "      <th>production_companies</th>\n",
       "      <th>production_countries</th>\n",
       "      <th>spoken_languages</th>\n",
       "      <th>keywords</th>\n",
       "      <th>roi</th>\n",
       "    </tr>\n",
       "  </thead>\n",
       "  <tbody>\n",
       "    <tr>\n",
       "      <th>0</th>\n",
       "      <td>27205</td>\n",
       "      <td>Inception</td>\n",
       "      <td>8.36</td>\n",
       "      <td>34495</td>\n",
       "      <td>Released</td>\n",
       "      <td>2010-07-15</td>\n",
       "      <td>825532764</td>\n",
       "      <td>148</td>\n",
       "      <td>False</td>\n",
       "      <td>/8ZTVqvKDQ8emSGUEMjsS4yHAwrp.jpg</td>\n",
       "      <td>160000000</td>\n",
       "      <td>https://www.warnerbros.com/movies/inception</td>\n",
       "      <td>tt1375666</td>\n",
       "      <td>en</td>\n",
       "      <td>Inception</td>\n",
       "      <td>Cobb, a skilled thief who commits corporate es...</td>\n",
       "      <td>83.95</td>\n",
       "      <td>/oYuLEt3zVCKq57qu2F8dT7NIa6f.jpg</td>\n",
       "      <td>Your mind is the scene of the crime.</td>\n",
       "      <td>Action, Science Fiction, Adventure</td>\n",
       "      <td>Legendary Pictures, Syncopy, Warner Bros. Pict...</td>\n",
       "      <td>United Kingdom, United States of America</td>\n",
       "      <td>English, French, Japanese, Swahili</td>\n",
       "      <td>rescue, mission, dream, airplane, paris, franc...</td>\n",
       "      <td>4.16</td>\n",
       "    </tr>\n",
       "    <tr>\n",
       "      <th>1</th>\n",
       "      <td>157336</td>\n",
       "      <td>Interstellar</td>\n",
       "      <td>8.42</td>\n",
       "      <td>32571</td>\n",
       "      <td>Released</td>\n",
       "      <td>2014-11-05</td>\n",
       "      <td>701729206</td>\n",
       "      <td>169</td>\n",
       "      <td>False</td>\n",
       "      <td>/pbrkL804c8yAv3zBZR4QPEafpAR.jpg</td>\n",
       "      <td>165000000</td>\n",
       "      <td>http://www.interstellarmovie.net/</td>\n",
       "      <td>tt0816692</td>\n",
       "      <td>en</td>\n",
       "      <td>Interstellar</td>\n",
       "      <td>The adventures of a group of explorers who mak...</td>\n",
       "      <td>140.24</td>\n",
       "      <td>/gEU2QniE6E77NI6lCU6MxlNBvIx.jpg</td>\n",
       "      <td>Mankind was born on Earth. It was never meant ...</td>\n",
       "      <td>Adventure, Drama, Science Fiction</td>\n",
       "      <td>Legendary Pictures, Syncopy, Lynda Obst Produc...</td>\n",
       "      <td>United Kingdom, United States of America</td>\n",
       "      <td>English</td>\n",
       "      <td>rescue, future, spacecraft, race against time,...</td>\n",
       "      <td>3.25</td>\n",
       "    </tr>\n",
       "    <tr>\n",
       "      <th>2</th>\n",
       "      <td>155</td>\n",
       "      <td>The Dark Knight</td>\n",
       "      <td>8.51</td>\n",
       "      <td>30619</td>\n",
       "      <td>Released</td>\n",
       "      <td>2008-07-16</td>\n",
       "      <td>1004558444</td>\n",
       "      <td>152</td>\n",
       "      <td>False</td>\n",
       "      <td>/nMKdUUepR0i5zn0y1T4CsSB5chy.jpg</td>\n",
       "      <td>185000000</td>\n",
       "      <td>https://www.warnerbros.com/movies/dark-knight/</td>\n",
       "      <td>tt0468569</td>\n",
       "      <td>en</td>\n",
       "      <td>The Dark Knight</td>\n",
       "      <td>Batman raises the stakes in his war on crime. ...</td>\n",
       "      <td>130.64</td>\n",
       "      <td>/qJ2tW6WMUDux911r6m7haRef0WH.jpg</td>\n",
       "      <td>Welcome to a world without rules.</td>\n",
       "      <td>Drama, Action, Crime, Thriller</td>\n",
       "      <td>DC Comics, Legendary Pictures, Syncopy, Isobel...</td>\n",
       "      <td>United Kingdom, United States of America</td>\n",
       "      <td>English, Mandarin</td>\n",
       "      <td>joker, sadism, chaos, secret identity, crime f...</td>\n",
       "      <td>4.43</td>\n",
       "    </tr>\n",
       "  </tbody>\n",
       "</table>\n",
       "</div>"
      ],
      "text/plain": [
       "       id            title  vote_average  vote_count    status release_date  \\\n",
       "0   27205        Inception          8.36       34495  Released   2010-07-15   \n",
       "1  157336     Interstellar          8.42       32571  Released   2014-11-05   \n",
       "2     155  The Dark Knight          8.51       30619  Released   2008-07-16   \n",
       "\n",
       "      revenue  runtime  adult                     backdrop_path     budget  \\\n",
       "0   825532764      148  False  /8ZTVqvKDQ8emSGUEMjsS4yHAwrp.jpg  160000000   \n",
       "1   701729206      169  False  /pbrkL804c8yAv3zBZR4QPEafpAR.jpg  165000000   \n",
       "2  1004558444      152  False  /nMKdUUepR0i5zn0y1T4CsSB5chy.jpg  185000000   \n",
       "\n",
       "                                         homepage    imdb_id  \\\n",
       "0     https://www.warnerbros.com/movies/inception  tt1375666   \n",
       "1               http://www.interstellarmovie.net/  tt0816692   \n",
       "2  https://www.warnerbros.com/movies/dark-knight/  tt0468569   \n",
       "\n",
       "  original_language   original_title  \\\n",
       "0                en        Inception   \n",
       "1                en     Interstellar   \n",
       "2                en  The Dark Knight   \n",
       "\n",
       "                                            overview  popularity  \\\n",
       "0  Cobb, a skilled thief who commits corporate es...       83.95   \n",
       "1  The adventures of a group of explorers who mak...      140.24   \n",
       "2  Batman raises the stakes in his war on crime. ...      130.64   \n",
       "\n",
       "                        poster_path  \\\n",
       "0  /oYuLEt3zVCKq57qu2F8dT7NIa6f.jpg   \n",
       "1  /gEU2QniE6E77NI6lCU6MxlNBvIx.jpg   \n",
       "2  /qJ2tW6WMUDux911r6m7haRef0WH.jpg   \n",
       "\n",
       "                                             tagline  \\\n",
       "0               Your mind is the scene of the crime.   \n",
       "1  Mankind was born on Earth. It was never meant ...   \n",
       "2                  Welcome to a world without rules.   \n",
       "\n",
       "                               genres  \\\n",
       "0  Action, Science Fiction, Adventure   \n",
       "1   Adventure, Drama, Science Fiction   \n",
       "2      Drama, Action, Crime, Thriller   \n",
       "\n",
       "                                production_companies  \\\n",
       "0  Legendary Pictures, Syncopy, Warner Bros. Pict...   \n",
       "1  Legendary Pictures, Syncopy, Lynda Obst Produc...   \n",
       "2  DC Comics, Legendary Pictures, Syncopy, Isobel...   \n",
       "\n",
       "                       production_countries  \\\n",
       "0  United Kingdom, United States of America   \n",
       "1  United Kingdom, United States of America   \n",
       "2  United Kingdom, United States of America   \n",
       "\n",
       "                     spoken_languages  \\\n",
       "0  English, French, Japanese, Swahili   \n",
       "1                             English   \n",
       "2                   English, Mandarin   \n",
       "\n",
       "                                            keywords  roi  \n",
       "0  rescue, mission, dream, airplane, paris, franc... 4.16  \n",
       "1  rescue, future, spacecraft, race against time,... 3.25  \n",
       "2  joker, sadism, chaos, secret identity, crime f... 4.43  "
      ]
     },
     "execution_count": 140,
     "metadata": {},
     "output_type": "execute_result"
    }
   ],
   "source": [
    "df_tmdb.head(3)\n"
   ]
  },
  {
   "cell_type": "code",
   "execution_count": 141,
   "metadata": {},
   "outputs": [
    {
     "name": "stdout",
     "output_type": "stream",
     "text": [
      "\n",
      "Estadísticas descriptivas antes de filtrar outliers:\n"
     ]
    },
    {
     "data": {
      "text/html": [
       "<div>\n",
       "<style scoped>\n",
       "    .dataframe tbody tr th:only-of-type {\n",
       "        vertical-align: middle;\n",
       "    }\n",
       "\n",
       "    .dataframe tbody tr th {\n",
       "        vertical-align: top;\n",
       "    }\n",
       "\n",
       "    .dataframe thead th {\n",
       "        text-align: right;\n",
       "    }\n",
       "</style>\n",
       "<table border=\"1\" class=\"dataframe\">\n",
       "  <thead>\n",
       "    <tr style=\"text-align: right;\">\n",
       "      <th></th>\n",
       "      <th>id</th>\n",
       "      <th>vote_average</th>\n",
       "      <th>vote_count</th>\n",
       "      <th>revenue</th>\n",
       "      <th>runtime</th>\n",
       "      <th>budget</th>\n",
       "      <th>popularity</th>\n",
       "      <th>roi</th>\n",
       "    </tr>\n",
       "  </thead>\n",
       "  <tbody>\n",
       "    <tr>\n",
       "      <th>count</th>\n",
       "      <td>13542.00</td>\n",
       "      <td>13542.00</td>\n",
       "      <td>13542.00</td>\n",
       "      <td>13542.00</td>\n",
       "      <td>13542.00</td>\n",
       "      <td>13542.00</td>\n",
       "      <td>13542.00</td>\n",
       "      <td>13542.00</td>\n",
       "    </tr>\n",
       "    <tr>\n",
       "      <th>mean</th>\n",
       "      <td>374915.66</td>\n",
       "      <td>5.27</td>\n",
       "      <td>1129.36</td>\n",
       "      <td>52001068.12</td>\n",
       "      <td>88.56</td>\n",
       "      <td>18189736.17</td>\n",
       "      <td>14.46</td>\n",
       "      <td>299604.51</td>\n",
       "    </tr>\n",
       "    <tr>\n",
       "      <th>std</th>\n",
       "      <td>436012.56</td>\n",
       "      <td>2.91</td>\n",
       "      <td>2646.36</td>\n",
       "      <td>148666629.48</td>\n",
       "      <td>51.86</td>\n",
       "      <td>37172156.75</td>\n",
       "      <td>53.61</td>\n",
       "      <td>13418633.56</td>\n",
       "    </tr>\n",
       "    <tr>\n",
       "      <th>min</th>\n",
       "      <td>5.00</td>\n",
       "      <td>0.00</td>\n",
       "      <td>0.00</td>\n",
       "      <td>1.00</td>\n",
       "      <td>0.00</td>\n",
       "      <td>1.00</td>\n",
       "      <td>0.00</td>\n",
       "      <td>-1.00</td>\n",
       "    </tr>\n",
       "    <tr>\n",
       "      <th>25%</th>\n",
       "      <td>14011.25</td>\n",
       "      <td>4.84</td>\n",
       "      <td>1.00</td>\n",
       "      <td>20197.75</td>\n",
       "      <td>80.00</td>\n",
       "      <td>14039.50</td>\n",
       "      <td>0.68</td>\n",
       "      <td>-0.32</td>\n",
       "    </tr>\n",
       "    <tr>\n",
       "      <th>50%</th>\n",
       "      <td>136606.50</td>\n",
       "      <td>6.20</td>\n",
       "      <td>130.00</td>\n",
       "      <td>4162764.00</td>\n",
       "      <td>98.00</td>\n",
       "      <td>4000000.00</td>\n",
       "      <td>8.85</td>\n",
       "      <td>0.55</td>\n",
       "    </tr>\n",
       "    <tr>\n",
       "      <th>75%</th>\n",
       "      <td>656809.25</td>\n",
       "      <td>7.00</td>\n",
       "      <td>983.00</td>\n",
       "      <td>36000000.00</td>\n",
       "      <td>115.00</td>\n",
       "      <td>20000000.00</td>\n",
       "      <td>17.30</td>\n",
       "      <td>2.69</td>\n",
       "    </tr>\n",
       "    <tr>\n",
       "      <th>max</th>\n",
       "      <td>1303166.00</td>\n",
       "      <td>10.00</td>\n",
       "      <td>34495.00</td>\n",
       "      <td>3000000000.00</td>\n",
       "      <td>999.00</td>\n",
       "      <td>900000000.00</td>\n",
       "      <td>2994.36</td>\n",
       "      <td>999999999.00</td>\n",
       "    </tr>\n",
       "  </tbody>\n",
       "</table>\n",
       "</div>"
      ],
      "text/plain": [
       "              id  vote_average  vote_count       revenue  runtime  \\\n",
       "count   13542.00      13542.00    13542.00      13542.00 13542.00   \n",
       "mean   374915.66          5.27     1129.36   52001068.12    88.56   \n",
       "std    436012.56          2.91     2646.36  148666629.48    51.86   \n",
       "min         5.00          0.00        0.00          1.00     0.00   \n",
       "25%     14011.25          4.84        1.00      20197.75    80.00   \n",
       "50%    136606.50          6.20      130.00    4162764.00    98.00   \n",
       "75%    656809.25          7.00      983.00   36000000.00   115.00   \n",
       "max   1303166.00         10.00    34495.00 3000000000.00   999.00   \n",
       "\n",
       "            budget  popularity          roi  \n",
       "count     13542.00    13542.00     13542.00  \n",
       "mean   18189736.17       14.46    299604.51  \n",
       "std    37172156.75       53.61  13418633.56  \n",
       "min           1.00        0.00        -1.00  \n",
       "25%       14039.50        0.68        -0.32  \n",
       "50%     4000000.00        8.85         0.55  \n",
       "75%    20000000.00       17.30         2.69  \n",
       "max   900000000.00     2994.36 999999999.00  "
      ]
     },
     "execution_count": 141,
     "metadata": {},
     "output_type": "execute_result"
    }
   ],
   "source": [
    "# Obteniendo la inforcion general para poder sacar los outliers usando los cuartiles.\n",
    "# Truco: si std es 0 la columna esta llena de 0.\n",
    "print(\"\\nEstadísticas descriptivas antes de filtrar outliers:\")\n",
    "df_tmdb.describe()  "
   ]
  },
  {
   "cell_type": "code",
   "execution_count": 142,
   "metadata": {},
   "outputs": [
    {
     "data": {
      "image/png": "[encoded data removed]",
      "text/plain": [
       "<Figure size 1000x150 with 1 Axes>"
      ]
     },
     "metadata": {},
     "output_type": "display_data"
    },
    {
     "data": {
      "image/png": "[encoded data removed]",
      "text/plain": [
       "<Figure size 1000x500 with 1 Axes>"
      ]
     },
     "metadata": {},
     "output_type": "display_data"
    }
   ],
   "source": [
    "# visualizacion antes del filtrado de outliers\n",
    "plt.figure(figsize=(10, 1.5))\n",
    "plt.boxplot(df_tmdb['roi'], vert=False) # vert=False para que las cajas se alinien en el eje x \n",
    "plt.title('Boxplot antes de filtrar outliers')\n",
    "plt.show()\n",
    "\n",
    "plt.figure(figsize=(10, 5))\n",
    "plt.boxplot(df_tmdb['roi'], vert=False) # vert=False para que las cajas se alinien en el eje x \n",
    "plt.title('Boxplot antes de filtrar outliers, datos centrados')\n",
    "plt.xlim(-2, 90)\n",
    "plt.show()\n"
   ]
  },
  {
   "cell_type": "markdown",
   "metadata": {},
   "source": [
    "El Boxplot muestra que la mayoria de los datos estan muy concentrados cerca del valor 0,\n",
    "    'pero hay una gran cantidad de valores atipicos que se estienden hasta el valor 40.\n",
    "        'Esto indica que aunque los datos centrales son muy homogeneos, hay valores extremos que deben ser analizados\n",
    "            'con mas detalle.'"
   ]
  },
  {
   "cell_type": "code",
   "execution_count": 144,
   "metadata": {},
   "outputs": [],
   "source": [
    "# Funcion para filtral los datos atipicos usando quartiles.\n",
    "def filtrar_outliers_iqr(df, column):\n",
    "    \"\"\"\n",
    "    Filtra los outliers de un DataFrame usando el método del rango intercuartílico (IQR).\n",
    "    \n",
    "    Parameters:\n",
    "    df_tmdb: El DataFrame del cual se filtrarán los outliers.\n",
    "    roi: El nombre de la columna donde se buscarán los outliers.\n",
    "\n",
    "    Returns:\n",
    "    df_tmdb: retorna DataFrame Dask sin los outliers.\n",
    "    \n",
    "    \"\"\"\n",
    "    #Computar los quartile Q1 y Q3\n",
    "    Q1 = df[column].quantile(0.25)\n",
    "    Q3 = df[column].quantile(0.75)\n",
    "    \n",
    "    # Crear el Rango \n",
    "    IQR = Q3 - Q1 \n",
    "    \n",
    "    #Definir el limite Inferior y Superior\n",
    "    lower = Q1 - 1.5 * IQR\n",
    "    upper = Q3 + 1.5 * IQR\n",
    "    \n",
    "    return df[(df[column] >= lower) & (df[column] <= upper)]"
   ]
  },
  {
   "cell_type": "code",
   "execution_count": 145,
   "metadata": {},
   "outputs": [],
   "source": [
    "# Creando DF sin outliers.\n",
    "df_tmdb_no_outliers = filtrar_outliers_iqr(df_tmdb, 'roi')"
   ]
  },
  {
   "cell_type": "code",
   "execution_count": 146,
   "metadata": {},
   "outputs": [
    {
     "data": {
      "text/plain": [
       "(11986, 25)"
      ]
     },
     "execution_count": 146,
     "metadata": {},
     "output_type": "execute_result"
    }
   ],
   "source": [
    "df_tmdb_no_outliers.shape   # borro 1555 datos que eran atipicos."
   ]
  },
  {
   "cell_type": "code",
   "execution_count": 147,
   "metadata": {},
   "outputs": [
    {
     "name": "stdout",
     "output_type": "stream",
     "text": [
      "\n",
      "Estadísticas descriptivas después de filtrar outliers:\n"
     ]
    },
    {
     "data": {
      "text/html": [
       "<div>\n",
       "<style scoped>\n",
       "    .dataframe tbody tr th:only-of-type {\n",
       "        vertical-align: middle;\n",
       "    }\n",
       "\n",
       "    .dataframe tbody tr th {\n",
       "        vertical-align: top;\n",
       "    }\n",
       "\n",
       "    .dataframe thead th {\n",
       "        text-align: right;\n",
       "    }\n",
       "</style>\n",
       "<table border=\"1\" class=\"dataframe\">\n",
       "  <thead>\n",
       "    <tr style=\"text-align: right;\">\n",
       "      <th></th>\n",
       "      <th>id</th>\n",
       "      <th>vote_average</th>\n",
       "      <th>vote_count</th>\n",
       "      <th>revenue</th>\n",
       "      <th>runtime</th>\n",
       "      <th>budget</th>\n",
       "      <th>popularity</th>\n",
       "      <th>roi</th>\n",
       "    </tr>\n",
       "  </thead>\n",
       "  <tbody>\n",
       "    <tr>\n",
       "      <th>count</th>\n",
       "      <td>11986.00</td>\n",
       "      <td>11986.00</td>\n",
       "      <td>11986.00</td>\n",
       "      <td>11986.00</td>\n",
       "      <td>11986.00</td>\n",
       "      <td>11986.00</td>\n",
       "      <td>11986.00</td>\n",
       "      <td>11986.00</td>\n",
       "    </tr>\n",
       "    <tr>\n",
       "      <th>mean</th>\n",
       "      <td>367792.01</td>\n",
       "      <td>5.27</td>\n",
       "      <td>1047.50</td>\n",
       "      <td>45329664.49</td>\n",
       "      <td>88.98</td>\n",
       "      <td>19668046.36</td>\n",
       "      <td>14.05</td>\n",
       "      <td>0.88</td>\n",
       "    </tr>\n",
       "    <tr>\n",
       "      <th>std</th>\n",
       "      <td>431576.42</td>\n",
       "      <td>2.86</td>\n",
       "      <td>2456.58</td>\n",
       "      <td>127392388.29</td>\n",
       "      <td>51.38</td>\n",
       "      <td>38570264.78</td>\n",
       "      <td>52.69</td>\n",
       "      <td>1.80</td>\n",
       "    </tr>\n",
       "    <tr>\n",
       "      <th>min</th>\n",
       "      <td>5.00</td>\n",
       "      <td>0.00</td>\n",
       "      <td>0.00</td>\n",
       "      <td>1.00</td>\n",
       "      <td>0.00</td>\n",
       "      <td>1.00</td>\n",
       "      <td>0.00</td>\n",
       "      <td>-1.00</td>\n",
       "    </tr>\n",
       "    <tr>\n",
       "      <th>25%</th>\n",
       "      <td>14195.25</td>\n",
       "      <td>4.93</td>\n",
       "      <td>1.00</td>\n",
       "      <td>15666.00</td>\n",
       "      <td>81.00</td>\n",
       "      <td>30000.00</td>\n",
       "      <td>0.78</td>\n",
       "      <td>-0.44</td>\n",
       "    </tr>\n",
       "    <tr>\n",
       "      <th>50%</th>\n",
       "      <td>123609.00</td>\n",
       "      <td>6.18</td>\n",
       "      <td>134.00</td>\n",
       "      <td>3673997.50</td>\n",
       "      <td>99.00</td>\n",
       "      <td>5000000.00</td>\n",
       "      <td>8.96</td>\n",
       "      <td>0.24</td>\n",
       "    </tr>\n",
       "    <tr>\n",
       "      <th>75%</th>\n",
       "      <td>629500.00</td>\n",
       "      <td>6.96</td>\n",
       "      <td>933.00</td>\n",
       "      <td>31424535.25</td>\n",
       "      <td>115.00</td>\n",
       "      <td>22000000.00</td>\n",
       "      <td>16.88</td>\n",
       "      <td>1.66</td>\n",
       "    </tr>\n",
       "    <tr>\n",
       "      <th>max</th>\n",
       "      <td>1303040.00</td>\n",
       "      <td>10.00</td>\n",
       "      <td>34495.00</td>\n",
       "      <td>3000000000.00</td>\n",
       "      <td>999.00</td>\n",
       "      <td>900000000.00</td>\n",
       "      <td>2994.36</td>\n",
       "      <td>7.21</td>\n",
       "    </tr>\n",
       "  </tbody>\n",
       "</table>\n",
       "</div>"
      ],
      "text/plain": [
       "              id  vote_average  vote_count       revenue  runtime  \\\n",
       "count   11986.00      11986.00    11986.00      11986.00 11986.00   \n",
       "mean   367792.01          5.27     1047.50   45329664.49    88.98   \n",
       "std    431576.42          2.86     2456.58  127392388.29    51.38   \n",
       "min         5.00          0.00        0.00          1.00     0.00   \n",
       "25%     14195.25          4.93        1.00      15666.00    81.00   \n",
       "50%    123609.00          6.18      134.00    3673997.50    99.00   \n",
       "75%    629500.00          6.96      933.00   31424535.25   115.00   \n",
       "max   1303040.00         10.00    34495.00 3000000000.00   999.00   \n",
       "\n",
       "            budget  popularity      roi  \n",
       "count     11986.00    11986.00 11986.00  \n",
       "mean   19668046.36       14.05     0.88  \n",
       "std    38570264.78       52.69     1.80  \n",
       "min           1.00        0.00    -1.00  \n",
       "25%       30000.00        0.78    -0.44  \n",
       "50%     5000000.00        8.96     0.24  \n",
       "75%    22000000.00       16.88     1.66  \n",
       "max   900000000.00     2994.36     7.21  "
      ]
     },
     "execution_count": 147,
     "metadata": {},
     "output_type": "execute_result"
    }
   ],
   "source": [
    "print(\"\\nEstadísticas descriptivas después de filtrar outliers:\")\n",
    "df_tmdb_no_outliers.describe()"
   ]
  },
  {
   "cell_type": "code",
   "execution_count": 113,
   "metadata": {},
   "outputs": [
    {
     "data": {
      "text/plain": [
       "\"\\nDataFrame con los outliers de la conluna roi\\nQ1 = df_tmdb['roi'].quantile(0.25)\\nQ3 = df_tmdb['roi'].quantile(0.75)\\n   \\n   Crear el Rango \\nIQR = Q3 - Q1 \\n   \\n  Definir el limite Inferior y Superior\\nlower_roi = Q1 - 1.5 * IQR\\nupper_roi = Q3 + 1.5 * IQR\\n\\nOutliers_roi = df_tmdb[(df_tmdb['roi']<lower_roi) | (df_tmdb['roi']>upper_roi)]\\nOutliers_roi guardo este df que contiene los outliers de la columna roi del df df_tmdb\\n\""
      ]
     },
     "execution_count": 113,
     "metadata": {},
     "output_type": "execute_result"
    }
   ],
   "source": [
    " '''\n",
    " DataFrame con los outliers de la conluna roi\n",
    "Q1 = df_tmdb['roi'].quantile(0.25)\n",
    "Q3 = df_tmdb['roi'].quantile(0.75)\n",
    "    \n",
    "    Crear el Rango \n",
    "IQR = Q3 - Q1 \n",
    "    \n",
    "   Definir el limite Inferior y Superior\n",
    "lower_roi = Q1 - 1.5 * IQR\n",
    "upper_roi = Q3 + 1.5 * IQR\n",
    "\n",
    "Outliers_roi = df_tmdb[(df_tmdb['roi']<lower_roi) | (df_tmdb['roi']>upper_roi)]\n",
    " Outliers_roi guardo este df que contiene los outliers de la columna roi del df df_tmdb\n",
    " '''"
   ]
  },
  {
   "cell_type": "code",
   "execution_count": 148,
   "metadata": {},
   "outputs": [
    {
     "data": {
      "image/png": "[encoded data removed]",
      "text/plain": [
       "<Figure size 1000x300 with 1 Axes>"
      ]
     },
     "metadata": {},
     "output_type": "display_data"
    }
   ],
   "source": [
    "'''\n",
    "Creo una linea roja con el limite del cuartir Q1 y Q3 antes de eliminar\n",
    "los Datos Atipicos, [ara poder identificar el rango de los outliers \n",
    "Q1 = df_tmdb['roi'].quantile(0.25)\n",
    "Q3 = df_tmdb['roi'].quantile(0.75)\n",
    "IQR = Q3 - Q1\n",
    "lower_whisker = Q1 - 1.5 * IQR\n",
    "upper_whisker = Q3 + 1.5 * IQR\n",
    "'''\n",
    "\n",
    "# visualizacion despues del filtrado de outliers\n",
    "plt.figure(figsize=(10, 3))\n",
    "plt.boxplot(df_tmdb_no_outliers['roi'], vert=False, showfliers=False) # vert=False para que la esta en el eje x\n",
    "\n",
    "plt.title('Boxplot despues de filtrar outliers')\n",
    "plt.xlabel('Rio')\n",
    "\n",
    "# Añadir líneas verticales para los límites originales de los bigotes\n",
    "#plt.axvline(x=lower_whisker, color='r', linestyle='--')\n",
    "#plt.axvline(x=upper_whisker, color='r', linestyle='--')\n",
    "\n",
    "\n",
    "plt.show()"
   ]
  },
  {
   "cell_type": "code",
   "execution_count": 149,
   "metadata": {},
   "outputs": [
    {
     "data": {
      "image/png": "[encoded data removed]",
      "text/plain": [
       "<Figure size 1200x500 with 2 Axes>"
      ]
     },
     "metadata": {},
     "output_type": "display_data"
    }
   ],
   "source": [
    "# Uso axes para  encasular los boxplot en una misma figura como columna 1 y 2 \n",
    "fig, axes = plt.subplots(1, 2, figsize=(12, 5))\n",
    "\n",
    "# Boxplot antes de filtrar outliers\n",
    "axes[0].boxplot(df_tmdb['roi'], vert=False)  # Crear el boxplot en el primer subplot\n",
    "axes[0].set_title('Antes de filtrar outliers')  # Establecer el título del primer subplot\n",
    "axes[0].set_xlabel('ROI')  # Establecer la etiqueta del eje X del primer subplot\n",
    "axes[0].set_xlim(-2, 90)\n",
    "\n",
    "\n",
    "# Boxplot después de filtrar outliers\n",
    "axes[1].boxplot(df_tmdb_no_outliers['roi'], vert=False)  # Crear el boxplot en el segundo subplot\n",
    "axes[1].set_title('Después de filtrar outliers')  # Establecer el título del segundo subplot\n",
    "axes[1].set_xlabel('ROI')  # Establecer la etiqueta del eje X del segundo subplot\n",
    "\n",
    "# Ajustar el diseño para que no se solapen los subplots\n",
    "plt.tight_layout()\n",
    "plt.show()"
   ]
  },
  {
   "cell_type": "markdown",
   "metadata": {},
   "source": [
    "En el primer grafico podemos observar que los outliers se entienden mas aya de 80, en el segundo grafico Boxplot podemos\n",
    "observar que los valores solo llegan asta 7 mas o menos. "
   ]
  },
  {
   "cell_type": "code",
   "execution_count": 150,
   "metadata": {},
   "outputs": [
    {
     "name": "stdout",
     "output_type": "stream",
     "text": [
      "\n",
      "Cuantos valores atipicos tiene la columna roi antes de filtras los outliers\n"
     ]
    },
    {
     "data": {
      "text/plain": [
       "1556"
      ]
     },
     "execution_count": 150,
     "metadata": {},
     "output_type": "execute_result"
    }
   ],
   "source": [
    "print('\\nCuantos valores atipicos tiene la columna roi antes de filtras los outliers')\n",
    "IQR_1 = (df_tmdb['roi'].quantile(0.75)) - (df_tmdb['roi'].quantile(0.25))\n",
    "filtro_Q3 = (df_tmdb['roi'].quantile(0.75)) + 1.5 * IQR_1\n",
    "\n",
    "result = df_tmdb[df_tmdb['roi'] > filtro_Q3]\n",
    "result.shape[0]\n"
   ]
  },
  {
   "cell_type": "code",
   "execution_count": 151,
   "metadata": {},
   "outputs": [
    {
     "name": "stdout",
     "output_type": "stream",
     "text": [
      "\n",
      "Cuantos valores atipicos tiene la columna roi despues de filtras los outliers\n"
     ]
    },
    {
     "data": {
      "text/plain": [
       "0"
      ]
     },
     "execution_count": 151,
     "metadata": {},
     "output_type": "execute_result"
    }
   ],
   "source": [
    "print('\\nCuantos valores atipicos tiene la columna roi despues de filtras los outliers')\n",
    "IQR_1 = (df_tmdb['roi'].quantile(0.75)) - (df_tmdb['roi'].quantile(0.25))\n",
    "filtro_Q3 = (df_tmdb['roi'].quantile(0.75)) + 1.5 * IQR_1\n",
    "\n",
    "result = df_tmdb_no_outliers[df_tmdb_no_outliers['roi'] > filtro_Q3]\n",
    "result.shape[0]\n"
   ]
  },
  {
   "cell_type": "code",
   "execution_count": 152,
   "metadata": {},
   "outputs": [
    {
     "data": {
      "text/plain": [
       "11986"
      ]
     },
     "execution_count": 152,
     "metadata": {},
     "output_type": "execute_result"
    }
   ],
   "source": [
    "df_tmdb_no_outliers.shape[0] # confitmo la cantidad de valores "
   ]
  },
  {
   "cell_type": "code",
   "execution_count": 153,
   "metadata": {},
   "outputs": [
    {
     "name": "stdout",
     "output_type": "stream",
     "text": [
      "<class 'pandas.core.frame.DataFrame'>\n",
      "Index: 11986 entries, 0 to 159464\n",
      "Data columns (total 25 columns):\n",
      " #   Column                Non-Null Count  Dtype  \n",
      "---  ------                --------------  -----  \n",
      " 0   id                    11986 non-null  int64  \n",
      " 1   title                 11986 non-null  object \n",
      " 2   vote_average          11986 non-null  float64\n",
      " 3   vote_count            11986 non-null  int64  \n",
      " 4   status                11986 non-null  object \n",
      " 5   release_date          10787 non-null  object \n",
      " 6   revenue               11986 non-null  int64  \n",
      " 7   runtime               11986 non-null  int64  \n",
      " 8   adult                 11986 non-null  bool   \n",
      " 9   backdrop_path         9304 non-null   object \n",
      " 10  budget                11986 non-null  int64  \n",
      " 11  homepage              3954 non-null   object \n",
      " 12  imdb_id               9731 non-null   object \n",
      " 13  original_language     11986 non-null  object \n",
      " 14  original_title        11986 non-null  object \n",
      " 15  overview              11045 non-null  object \n",
      " 16  popularity            11986 non-null  float64\n",
      " 17  poster_path           10800 non-null  object \n",
      " 18  tagline               8700 non-null   object \n",
      " 19  genres                10840 non-null  object \n",
      " 20  production_companies  9993 non-null   object \n",
      " 21  production_countries  10070 non-null  object \n",
      " 22  spoken_languages      10351 non-null  object \n",
      " 23  keywords              9121 non-null   object \n",
      " 24  roi                   11986 non-null  float64\n",
      "dtypes: bool(1), float64(3), int64(5), object(16)\n",
      "memory usage: 2.3+ MB\n"
     ]
    }
   ],
   "source": [
    "df_tmdb_no_outliers.info()"
   ]
  },
  {
   "cell_type": "code",
   "execution_count": 154,
   "metadata": {},
   "outputs": [],
   "source": [
    "# borrar columnas no necesarias, util antes de borrar valores NaN para no reducir mucho el dataset\n",
    "df_tmdb_no_outliers = df_tmdb_no_outliers.drop(['homepage', 'tagline','poster_path','overview','keywords','backdrop_path','spoken_languages','production_companies'], axis=1)"
   ]
  },
  {
   "cell_type": "code",
   "execution_count": 155,
   "metadata": {},
   "outputs": [
    {
     "name": "stdout",
     "output_type": "stream",
     "text": [
      "<class 'pandas.core.frame.DataFrame'>\n",
      "Index: 11986 entries, 0 to 159464\n",
      "Data columns (total 17 columns):\n",
      " #   Column                Non-Null Count  Dtype  \n",
      "---  ------                --------------  -----  \n",
      " 0   id                    11986 non-null  int64  \n",
      " 1   title                 11986 non-null  object \n",
      " 2   vote_average          11986 non-null  float64\n",
      " 3   vote_count            11986 non-null  int64  \n",
      " 4   status                11986 non-null  object \n",
      " 5   release_date          10787 non-null  object \n",
      " 6   revenue               11986 non-null  int64  \n",
      " 7   runtime               11986 non-null  int64  \n",
      " 8   adult                 11986 non-null  bool   \n",
      " 9   budget                11986 non-null  int64  \n",
      " 10  imdb_id               9731 non-null   object \n",
      " 11  original_language     11986 non-null  object \n",
      " 12  original_title        11986 non-null  object \n",
      " 13  popularity            11986 non-null  float64\n",
      " 14  genres                10840 non-null  object \n",
      " 15  production_countries  10070 non-null  object \n",
      " 16  roi                   11986 non-null  float64\n",
      "dtypes: bool(1), float64(3), int64(5), object(8)\n",
      "memory usage: 1.6+ MB\n"
     ]
    }
   ],
   "source": [
    "df_tmdb_no_outliers.info()"
   ]
  },
  {
   "cell_type": "markdown",
   "metadata": {},
   "source": [
    "La columna con menor valores es Imdb_id con 9731, pero es una columna mecesaria."
   ]
  },
  {
   "cell_type": "code",
   "execution_count": 156,
   "metadata": {},
   "outputs": [
    {
     "data": {
      "text/html": [
       "<div>\n",
       "<style scoped>\n",
       "    .dataframe tbody tr th:only-of-type {\n",
       "        vertical-align: middle;\n",
       "    }\n",
       "\n",
       "    .dataframe tbody tr th {\n",
       "        vertical-align: top;\n",
       "    }\n",
       "\n",
       "    .dataframe thead th {\n",
       "        text-align: right;\n",
       "    }\n",
       "</style>\n",
       "<table border=\"1\" class=\"dataframe\">\n",
       "  <thead>\n",
       "    <tr style=\"text-align: right;\">\n",
       "      <th></th>\n",
       "      <th>id</th>\n",
       "      <th>title</th>\n",
       "      <th>vote_average</th>\n",
       "      <th>vote_count</th>\n",
       "      <th>status</th>\n",
       "      <th>release_date</th>\n",
       "      <th>revenue</th>\n",
       "      <th>runtime</th>\n",
       "      <th>adult</th>\n",
       "      <th>budget</th>\n",
       "      <th>imdb_id</th>\n",
       "      <th>original_language</th>\n",
       "      <th>original_title</th>\n",
       "      <th>popularity</th>\n",
       "      <th>genres</th>\n",
       "      <th>production_countries</th>\n",
       "      <th>roi</th>\n",
       "    </tr>\n",
       "  </thead>\n",
       "  <tbody>\n",
       "    <tr>\n",
       "      <th>0</th>\n",
       "      <td>27205</td>\n",
       "      <td>Inception</td>\n",
       "      <td>8.36</td>\n",
       "      <td>34495</td>\n",
       "      <td>Released</td>\n",
       "      <td>2010-07-15</td>\n",
       "      <td>825532764</td>\n",
       "      <td>148</td>\n",
       "      <td>False</td>\n",
       "      <td>160000000</td>\n",
       "      <td>tt1375666</td>\n",
       "      <td>en</td>\n",
       "      <td>Inception</td>\n",
       "      <td>83.95</td>\n",
       "      <td>Action, Science Fiction, Adventure</td>\n",
       "      <td>United Kingdom, United States of America</td>\n",
       "      <td>4.16</td>\n",
       "    </tr>\n",
       "    <tr>\n",
       "      <th>1</th>\n",
       "      <td>157336</td>\n",
       "      <td>Interstellar</td>\n",
       "      <td>8.42</td>\n",
       "      <td>32571</td>\n",
       "      <td>Released</td>\n",
       "      <td>2014-11-05</td>\n",
       "      <td>701729206</td>\n",
       "      <td>169</td>\n",
       "      <td>False</td>\n",
       "      <td>165000000</td>\n",
       "      <td>tt0816692</td>\n",
       "      <td>en</td>\n",
       "      <td>Interstellar</td>\n",
       "      <td>140.24</td>\n",
       "      <td>Adventure, Drama, Science Fiction</td>\n",
       "      <td>United Kingdom, United States of America</td>\n",
       "      <td>3.25</td>\n",
       "    </tr>\n",
       "  </tbody>\n",
       "</table>\n",
       "</div>"
      ],
      "text/plain": [
       "       id         title  vote_average  vote_count    status release_date  \\\n",
       "0   27205     Inception          8.36       34495  Released   2010-07-15   \n",
       "1  157336  Interstellar          8.42       32571  Released   2014-11-05   \n",
       "\n",
       "     revenue  runtime  adult     budget    imdb_id original_language  \\\n",
       "0  825532764      148  False  160000000  tt1375666                en   \n",
       "1  701729206      169  False  165000000  tt0816692                en   \n",
       "\n",
       "  original_title  popularity                              genres  \\\n",
       "0      Inception       83.95  Action, Science Fiction, Adventure   \n",
       "1   Interstellar      140.24   Adventure, Drama, Science Fiction   \n",
       "\n",
       "                       production_countries  roi  \n",
       "0  United Kingdom, United States of America 4.16  \n",
       "1  United Kingdom, United States of America 3.25  "
      ]
     },
     "execution_count": 156,
     "metadata": {},
     "output_type": "execute_result"
    }
   ],
   "source": [
    "df_tmdb_no_outliers.head(2)"
   ]
  },
  {
   "cell_type": "code",
   "execution_count": 157,
   "metadata": {},
   "outputs": [],
   "source": [
    " #Eliminar valores NaN \n",
    "df_tmdb_no_outliers = df_tmdb_no_outliers.dropna()"
   ]
  },
  {
   "cell_type": "code",
   "execution_count": 158,
   "metadata": {},
   "outputs": [
    {
     "name": "stdout",
     "output_type": "stream",
     "text": [
      "<class 'pandas.core.frame.DataFrame'>\n",
      "Index: 9098 entries, 0 to 159173\n",
      "Data columns (total 17 columns):\n",
      " #   Column                Non-Null Count  Dtype  \n",
      "---  ------                --------------  -----  \n",
      " 0   id                    9098 non-null   int64  \n",
      " 1   title                 9098 non-null   object \n",
      " 2   vote_average          9098 non-null   float64\n",
      " 3   vote_count            9098 non-null   int64  \n",
      " 4   status                9098 non-null   object \n",
      " 5   release_date          9098 non-null   object \n",
      " 6   revenue               9098 non-null   int64  \n",
      " 7   runtime               9098 non-null   int64  \n",
      " 8   adult                 9098 non-null   bool   \n",
      " 9   budget                9098 non-null   int64  \n",
      " 10  imdb_id               9098 non-null   object \n",
      " 11  original_language     9098 non-null   object \n",
      " 12  original_title        9098 non-null   object \n",
      " 13  popularity            9098 non-null   float64\n",
      " 14  genres                9098 non-null   object \n",
      " 15  production_countries  9098 non-null   object \n",
      " 16  roi                   9098 non-null   float64\n",
      "dtypes: bool(1), float64(3), int64(5), object(8)\n",
      "memory usage: 1.2+ MB\n"
     ]
    }
   ],
   "source": [
    "df_tmdb_no_outliers.info()"
   ]
  },
  {
   "cell_type": "code",
   "execution_count": 159,
   "metadata": {},
   "outputs": [],
   "source": [
    "# borrando valores duplicados usando imdb_id ya que son valores unicos para cada produccion.\n",
    "df_tmdb_no_outliers = df_tmdb_no_outliers.drop_duplicates(subset=['imdb_id'])"
   ]
  },
  {
   "cell_type": "code",
   "execution_count": 160,
   "metadata": {},
   "outputs": [
    {
     "name": "stdout",
     "output_type": "stream",
     "text": [
      "<class 'pandas.core.frame.DataFrame'>\n",
      "Index: 9098 entries, 0 to 159173\n",
      "Data columns (total 17 columns):\n",
      " #   Column                Non-Null Count  Dtype  \n",
      "---  ------                --------------  -----  \n",
      " 0   id                    9098 non-null   int64  \n",
      " 1   title                 9098 non-null   object \n",
      " 2   vote_average          9098 non-null   float64\n",
      " 3   vote_count            9098 non-null   int64  \n",
      " 4   status                9098 non-null   object \n",
      " 5   release_date          9098 non-null   object \n",
      " 6   revenue               9098 non-null   int64  \n",
      " 7   runtime               9098 non-null   int64  \n",
      " 8   adult                 9098 non-null   bool   \n",
      " 9   budget                9098 non-null   int64  \n",
      " 10  imdb_id               9098 non-null   object \n",
      " 11  original_language     9098 non-null   object \n",
      " 12  original_title        9098 non-null   object \n",
      " 13  popularity            9098 non-null   float64\n",
      " 14  genres                9098 non-null   object \n",
      " 15  production_countries  9098 non-null   object \n",
      " 16  roi                   9098 non-null   float64\n",
      "dtypes: bool(1), float64(3), int64(5), object(8)\n",
      "memory usage: 1.2+ MB\n"
     ]
    }
   ],
   "source": [
    "df_tmdb_no_outliers.info()"
   ]
  },
  {
   "cell_type": "code",
   "execution_count": null,
   "metadata": {},
   "outputs": [
    {
     "name": "stdout",
     "output_type": "stream",
     "text": [
      "id                        int64\n",
      "title                    object\n",
      "vote_average            float64\n",
      "vote_count                int64\n",
      "status                   object\n",
      "release_date             object\n",
      "revenue                   int64\n",
      "runtime                   int64\n",
      "adult                      bool\n",
      "backdrop_path            object\n",
      "budget                    int64\n",
      "homepage                 object\n",
      "imdb_id                  object\n",
      "original_language        object\n",
      "original_title           object\n",
      "overview                 object\n",
      "popularity              float64\n",
      "poster_path              object\n",
      "tagline                  object\n",
      "genres                   object\n",
      "production_companies     object\n",
      "production_countries     object\n",
      "spoken_languages         object\n",
      "keywords                 object\n",
      "roi                     float64\n",
      "dtype: object\n"
     ]
    }
   ],
   "source": [
    "print(df_tmdb_no_outliers.dtypes)"
   ]
  },
  {
   "cell_type": "code",
   "execution_count": 169,
   "metadata": {},
   "outputs": [],
   "source": [
    "# Formatear los datos a su formato correspondiente.\n",
    "df_tmdb_no_outliers = df_tmdb_no_outliers.astype({\n",
    "    'title': object,\n",
    "    'status': object,\n",
    "    'release_date':'datetime64[ns]',\n",
    "    'imdb_id': object,\n",
    "    'original_language': object,\n",
    "    'original_title': object,\n",
    "    'genres': object,\n",
    "    'production_countries': object\n",
    "    \n",
    "})"
   ]
  },
  {
   "cell_type": "code",
   "execution_count": 170,
   "metadata": {},
   "outputs": [
    {
     "name": "stdout",
     "output_type": "stream",
     "text": [
      "id                               int64\n",
      "title                           object\n",
      "vote_average                   float64\n",
      "vote_count                       int64\n",
      "status                          object\n",
      "release_date            datetime64[ns]\n",
      "revenue                          int64\n",
      "runtime                          int64\n",
      "adult                             bool\n",
      "budget                           int64\n",
      "imdb_id                         object\n",
      "original_language               object\n",
      "original_title                  object\n",
      "popularity                     float64\n",
      "genres                          object\n",
      "production_countries            object\n",
      "roi                            float64\n",
      "dtype: object\n"
     ]
    }
   ],
   "source": [
    "print(df_tmdb_no_outliers.dtypes)"
   ]
  },
  {
   "cell_type": "code",
   "execution_count": 171,
   "metadata": {},
   "outputs": [
    {
     "name": "stdout",
     "output_type": "stream",
     "text": [
      "<class 'pandas.core.frame.DataFrame'>\n",
      "Index: 9098 entries, 0 to 159173\n",
      "Data columns (total 17 columns):\n",
      " #   Column                Non-Null Count  Dtype         \n",
      "---  ------                --------------  -----         \n",
      " 0   id                    9098 non-null   int64         \n",
      " 1   title                 9098 non-null   object        \n",
      " 2   vote_average          9098 non-null   float64       \n",
      " 3   vote_count            9098 non-null   int64         \n",
      " 4   status                9098 non-null   object        \n",
      " 5   release_date          9098 non-null   datetime64[ns]\n",
      " 6   revenue               9098 non-null   int64         \n",
      " 7   runtime               9098 non-null   int64         \n",
      " 8   adult                 9098 non-null   bool          \n",
      " 9   budget                9098 non-null   int64         \n",
      " 10  imdb_id               9098 non-null   object        \n",
      " 11  original_language     9098 non-null   object        \n",
      " 12  original_title        9098 non-null   object        \n",
      " 13  popularity            9098 non-null   float64       \n",
      " 14  genres                9098 non-null   object        \n",
      " 15  production_countries  9098 non-null   object        \n",
      " 16  roi                   9098 non-null   float64       \n",
      "dtypes: bool(1), datetime64[ns](1), float64(3), int64(5), object(7)\n",
      "memory usage: 1.2+ MB\n"
     ]
    }
   ],
   "source": [
    "df_tmdb_no_outliers.info()"
   ]
  },
  {
   "cell_type": "code",
   "execution_count": 172,
   "metadata": {},
   "outputs": [
    {
     "data": {
      "text/html": [
       "<div>\n",
       "<style scoped>\n",
       "    .dataframe tbody tr th:only-of-type {\n",
       "        vertical-align: middle;\n",
       "    }\n",
       "\n",
       "    .dataframe tbody tr th {\n",
       "        vertical-align: top;\n",
       "    }\n",
       "\n",
       "    .dataframe thead th {\n",
       "        text-align: right;\n",
       "    }\n",
       "</style>\n",
       "<table border=\"1\" class=\"dataframe\">\n",
       "  <thead>\n",
       "    <tr style=\"text-align: right;\">\n",
       "      <th></th>\n",
       "      <th>id</th>\n",
       "      <th>vote_average</th>\n",
       "      <th>vote_count</th>\n",
       "      <th>release_date</th>\n",
       "      <th>revenue</th>\n",
       "      <th>runtime</th>\n",
       "      <th>budget</th>\n",
       "      <th>popularity</th>\n",
       "      <th>roi</th>\n",
       "    </tr>\n",
       "  </thead>\n",
       "  <tbody>\n",
       "    <tr>\n",
       "      <th>count</th>\n",
       "      <td>9098.00</td>\n",
       "      <td>9098.00</td>\n",
       "      <td>9098.00</td>\n",
       "      <td>9098</td>\n",
       "      <td>9098.00</td>\n",
       "      <td>9098.00</td>\n",
       "      <td>9098.00</td>\n",
       "      <td>9098.00</td>\n",
       "      <td>9098.00</td>\n",
       "    </tr>\n",
       "    <tr>\n",
       "      <th>mean</th>\n",
       "      <td>179281.25</td>\n",
       "      <td>6.16</td>\n",
       "      <td>1379.05</td>\n",
       "      <td>2002-02-28 02:06:18.280940928</td>\n",
       "      <td>58422398.10</td>\n",
       "      <td>105.21</td>\n",
       "      <td>24898927.34</td>\n",
       "      <td>18.29</td>\n",
       "      <td>1.02</td>\n",
       "    </tr>\n",
       "    <tr>\n",
       "      <th>min</th>\n",
       "      <td>5.00</td>\n",
       "      <td>0.00</td>\n",
       "      <td>0.00</td>\n",
       "      <td>1914-04-25 00:00:00</td>\n",
       "      <td>1.00</td>\n",
       "      <td>0.00</td>\n",
       "      <td>1.00</td>\n",
       "      <td>0.00</td>\n",
       "      <td>-1.00</td>\n",
       "    </tr>\n",
       "    <tr>\n",
       "      <th>25%</th>\n",
       "      <td>11078.00</td>\n",
       "      <td>5.74</td>\n",
       "      <td>58.00</td>\n",
       "      <td>1996-01-12 00:00:00</td>\n",
       "      <td>1453317.25</td>\n",
       "      <td>93.00</td>\n",
       "      <td>2500000.00</td>\n",
       "      <td>6.13</td>\n",
       "      <td>-0.43</td>\n",
       "    </tr>\n",
       "    <tr>\n",
       "      <th>50%</th>\n",
       "      <td>40799.50</td>\n",
       "      <td>6.37</td>\n",
       "      <td>365.00</td>\n",
       "      <td>2007-04-13 00:00:00</td>\n",
       "      <td>11000000.00</td>\n",
       "      <td>104.00</td>\n",
       "      <td>10000000.00</td>\n",
       "      <td>12.70</td>\n",
       "      <td>0.47</td>\n",
       "    </tr>\n",
       "    <tr>\n",
       "      <th>75%</th>\n",
       "      <td>294267.50</td>\n",
       "      <td>6.98</td>\n",
       "      <td>1397.00</td>\n",
       "      <td>2014-09-06 18:00:00</td>\n",
       "      <td>49742506.00</td>\n",
       "      <td>119.00</td>\n",
       "      <td>30000000.00</td>\n",
       "      <td>19.81</td>\n",
       "      <td>1.94</td>\n",
       "    </tr>\n",
       "    <tr>\n",
       "      <th>max</th>\n",
       "      <td>1300781.00</td>\n",
       "      <td>10.00</td>\n",
       "      <td>34495.00</td>\n",
       "      <td>2024-07-23 00:00:00</td>\n",
       "      <td>2800000000.00</td>\n",
       "      <td>990.00</td>\n",
       "      <td>460000000.00</td>\n",
       "      <td>2994.36</td>\n",
       "      <td>7.21</td>\n",
       "    </tr>\n",
       "    <tr>\n",
       "      <th>std</th>\n",
       "      <td>257612.29</td>\n",
       "      <td>1.60</td>\n",
       "      <td>2737.06</td>\n",
       "      <td>NaN</td>\n",
       "      <td>138819997.89</td>\n",
       "      <td>31.49</td>\n",
       "      <td>38882019.34</td>\n",
       "      <td>59.85</td>\n",
       "      <td>1.86</td>\n",
       "    </tr>\n",
       "  </tbody>\n",
       "</table>\n",
       "</div>"
      ],
      "text/plain": [
       "              id  vote_average  vote_count                   release_date  \\\n",
       "count    9098.00       9098.00     9098.00                           9098   \n",
       "mean   179281.25          6.16     1379.05  2002-02-28 02:06:18.280940928   \n",
       "min         5.00          0.00        0.00            1914-04-25 00:00:00   \n",
       "25%     11078.00          5.74       58.00            1996-01-12 00:00:00   \n",
       "50%     40799.50          6.37      365.00            2007-04-13 00:00:00   \n",
       "75%    294267.50          6.98     1397.00            2014-09-06 18:00:00   \n",
       "max   1300781.00         10.00    34495.00            2024-07-23 00:00:00   \n",
       "std    257612.29          1.60     2737.06                            NaN   \n",
       "\n",
       "            revenue  runtime       budget  popularity     roi  \n",
       "count       9098.00  9098.00      9098.00     9098.00 9098.00  \n",
       "mean    58422398.10   105.21  24898927.34       18.29    1.02  \n",
       "min            1.00     0.00         1.00        0.00   -1.00  \n",
       "25%      1453317.25    93.00   2500000.00        6.13   -0.43  \n",
       "50%     11000000.00   104.00  10000000.00       12.70    0.47  \n",
       "75%     49742506.00   119.00  30000000.00       19.81    1.94  \n",
       "max   2800000000.00   990.00 460000000.00     2994.36    7.21  \n",
       "std    138819997.89    31.49  38882019.34       59.85    1.86  "
      ]
     },
     "execution_count": 172,
     "metadata": {},
     "output_type": "execute_result"
    }
   ],
   "source": [
    "df_tmdb_no_outliers.describe()"
   ]
  },
  {
   "cell_type": "code",
   "execution_count": 173,
   "metadata": {},
   "outputs": [
    {
     "name": "stdout",
     "output_type": "stream",
     "text": [
      "0\n"
     ]
    }
   ],
   "source": [
    "rows_with_nan = df_tmdb_no_outliers.isna().any(axis=1).sum() # verificar si tiene columnas con NaN\n",
    "print(rows_with_nan)"
   ]
  },
  {
   "cell_type": "code",
   "execution_count": 176,
   "metadata": {},
   "outputs": [
    {
     "data": {
      "text/html": [
       "<div>\n",
       "<style scoped>\n",
       "    .dataframe tbody tr th:only-of-type {\n",
       "        vertical-align: middle;\n",
       "    }\n",
       "\n",
       "    .dataframe tbody tr th {\n",
       "        vertical-align: top;\n",
       "    }\n",
       "\n",
       "    .dataframe thead th {\n",
       "        text-align: right;\n",
       "    }\n",
       "</style>\n",
       "<table border=\"1\" class=\"dataframe\">\n",
       "  <thead>\n",
       "    <tr style=\"text-align: right;\">\n",
       "      <th></th>\n",
       "      <th>id</th>\n",
       "      <th>title</th>\n",
       "      <th>vote_average</th>\n",
       "      <th>vote_count</th>\n",
       "      <th>status</th>\n",
       "      <th>release_date</th>\n",
       "      <th>revenue</th>\n",
       "      <th>runtime</th>\n",
       "      <th>adult</th>\n",
       "      <th>budget</th>\n",
       "      <th>imdb_id</th>\n",
       "      <th>original_language</th>\n",
       "      <th>original_title</th>\n",
       "      <th>popularity</th>\n",
       "      <th>genres</th>\n",
       "      <th>production_countries</th>\n",
       "      <th>roi</th>\n",
       "    </tr>\n",
       "  </thead>\n",
       "  <tbody>\n",
       "    <tr>\n",
       "      <th>0</th>\n",
       "      <td>27205</td>\n",
       "      <td>Inception</td>\n",
       "      <td>8.36</td>\n",
       "      <td>34495</td>\n",
       "      <td>Released</td>\n",
       "      <td>2010-07-15</td>\n",
       "      <td>825532764</td>\n",
       "      <td>148</td>\n",
       "      <td>False</td>\n",
       "      <td>160000000</td>\n",
       "      <td>tt1375666</td>\n",
       "      <td>en</td>\n",
       "      <td>Inception</td>\n",
       "      <td>83.95</td>\n",
       "      <td>Action, Science Fiction, Adventure</td>\n",
       "      <td>United Kingdom, United States of America</td>\n",
       "      <td>4.16</td>\n",
       "    </tr>\n",
       "    <tr>\n",
       "      <th>1</th>\n",
       "      <td>157336</td>\n",
       "      <td>Interstellar</td>\n",
       "      <td>8.42</td>\n",
       "      <td>32571</td>\n",
       "      <td>Released</td>\n",
       "      <td>2014-11-05</td>\n",
       "      <td>701729206</td>\n",
       "      <td>169</td>\n",
       "      <td>False</td>\n",
       "      <td>165000000</td>\n",
       "      <td>tt0816692</td>\n",
       "      <td>en</td>\n",
       "      <td>Interstellar</td>\n",
       "      <td>140.24</td>\n",
       "      <td>Adventure, Drama, Science Fiction</td>\n",
       "      <td>United Kingdom, United States of America</td>\n",
       "      <td>3.25</td>\n",
       "    </tr>\n",
       "  </tbody>\n",
       "</table>\n",
       "</div>"
      ],
      "text/plain": [
       "       id         title  vote_average  vote_count    status release_date  \\\n",
       "0   27205     Inception          8.36       34495  Released   2010-07-15   \n",
       "1  157336  Interstellar          8.42       32571  Released   2014-11-05   \n",
       "\n",
       "     revenue  runtime  adult     budget    imdb_id original_language  \\\n",
       "0  825532764      148  False  160000000  tt1375666                en   \n",
       "1  701729206      169  False  165000000  tt0816692                en   \n",
       "\n",
       "  original_title  popularity                              genres  \\\n",
       "0      Inception       83.95  Action, Science Fiction, Adventure   \n",
       "1   Interstellar      140.24   Adventure, Drama, Science Fiction   \n",
       "\n",
       "                       production_countries  roi  \n",
       "0  United Kingdom, United States of America 4.16  \n",
       "1  United Kingdom, United States of America 3.25  "
      ]
     },
     "execution_count": 176,
     "metadata": {},
     "output_type": "execute_result"
    }
   ],
   "source": [
    "df_tmdb_no_outliers.head(2)"
   ]
  },
  {
   "cell_type": "code",
   "execution_count": 174,
   "metadata": {},
   "outputs": [],
   "source": [
    "df_tmdb_no_outliers.to_csv('C:/Users/Chamo/Documents/df_tmdb.csv', sep=',', index=False)"
   ]
  }
 ],
 "metadata": {
  "kernelspec": {
   "display_name": "Python 3",
   "language": "python",
   "name": "python3"
  },
  "language_info": {
   "codemirror_mode": {
    "name": "ipython",
    "version": 3
   },
   "file_extension": ".py",
   "mimetype": "text/x-python",
   "name": "python",
   "nbconvert_exporter": "python",
   "pygments_lexer": "ipython3",
   "version": "3.12.0"
  }
 },
 "nbformat": 4,
 "nbformat_minor": 2
}
