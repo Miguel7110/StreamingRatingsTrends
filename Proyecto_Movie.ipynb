{
 "cells": [
  {
   "cell_type": "code",
   "execution_count": 3,
   "metadata": {},
   "outputs": [],
   "source": [
    "import pandas as pd\n",
    "import numpy as np\n",
    "import matplotlib.pyplot as plt\n",
    "import plotly.express as px\n",
    "import plotly.io as pio\n",
    "import plotly.graph_objects as go\n",
    "from plotly.subplots import make_subplots\n",
    "import seaborn as sns\n",
    "from warnings import warn\n",
    "import dask.dataframe as dd\n",
    "pd.set_option('display.max_columns', None) \n",
    "pd.set_option('display.max_rows', None)\n",
    "pd.set_option('display.float_format', '{:.2f}'.format)\n",
    "\n",
    "global df_title_basics, df_title_ratings, df_tmdb # crear variables globales\n",
    "pd.set_option('display.float_format', lambda x: '%0.3f' % x)"
   ]
  },
  {
   "cell_type": "code",
   "execution_count": 4,
   "metadata": {},
   "outputs": [],
   "source": [
    "# Abrir los dataset lismpios. \n",
    "df_title_basics = pd.read_csv(r'C:\\Users\\Chamo\\Documents\\title_basics_procesado1.csv',sep='\\t')\n",
    "df_title_ratings = pd.read_csv(r'C:\\Users\\Chamo\\Documents\\df_title_ratings.csv', sep='\\t')\n",
    "df_tmdb = pd.read_csv(r'C:\\Users\\Chamo\\Documents\\df_tmdb.csv', sep=',')"
   ]
  },
  {
   "cell_type": "code",
   "execution_count": 5,
   "metadata": {},
   "outputs": [],
   "source": [
    " \n",
    " # combertir la columna de años a tipo de datos de tiempo (datatime)\n",
    "df_title_basics['startYear'] = pd.to_datetime(df_title_basics['startYear'], format='%Y-%m-%d', errors='coerce')\n",
    "\n",
    " # incluir solo los años relevantes (1990-2024)\n",
    "df_title_basics = df_title_basics[df_title_basics['startYear'].between('1900-01-01', '2024-01-01') & (df_title_basics['runtimeMinutes'].between(15, 240))]\n",
    " \n",
    " # filtral los rating relevantes (500+), los de menos de 500 votos no son relevantes.\n",
    "df_title_ratings = df_title_ratings[(df_title_ratings['numVotes']>500) & (df_title_ratings['averageRating']>0)]\n",
    " \n",
    " # incluir solo las peliculas con un budget mayor o igual a 500k de los anos 1990-2024.\n",
    "df_tmdb = df_tmdb[df_tmdb['release_date'].between('1900-01-01', '2024-01-01')]\n",
    "df_tmdb = df_tmdb[df_tmdb['budget']>=500000]"
   ]
  },
  {
   "cell_type": "markdown",
   "metadata": {},
   "source": [
    "------------------------------------------------------------------------------------------------------------------------------------------"
   ]
  },
  {
   "cell_type": "markdown",
   "metadata": {},
   "source": [
    "Pregunta 1: ¿Cual es la evolución del rating por tipo de contenido?"
   ]
  },
  {
   "cell_type": "code",
   "execution_count": 6,
   "metadata": {},
   "outputs": [
    {
     "data": {
      "application/vnd.plotly.v1+json": {
       "config": {
        "plotlyServerURL": "https://plot.ly"
       },
       "data": [
        {
         "hovertemplate": "Tipo de Contenido=movie<br>year=%{x}<br>Rating Promedio=%{y}<extra></extra>",
         "legendgroup": "movie",
         "line": {
          "color": "#636efa",
          "dash": "solid",
          "width": 2
         },
         "marker": {
          "size": 5,
          "symbol": "circle"
         },
         "mode": "lines+markers",
         "name": "movie",
         "orientation": "v",
         "showlegend": true,
         "type": "scatter",
         "x": [
          1990,
          1991,
          1992,
          1993,
          1994,
          1995,
          1996,
          1997,
          1998,
          1999,
          2000,
          2001,
          2002,
          2003,
          2004,
          2005,
          2006,
          2007,
          2008,
          2009,
          2010,
          2011,
          2012,
          2013,
          2014,
          2015,
          2016,
          2017,
          2018,
          2019,
          2020,
          2021,
          2022,
          2023,
          2024
         ],
         "xaxis": "x",
         "y": [
          6.066,
          6.123,
          6.229,
          6.16,
          6.079,
          6.204,
          6.122,
          6.154,
          6.165,
          6.138,
          6.061,
          6.102,
          6.128,
          6.127,
          6.101,
          6.07,
          5.982,
          6.055,
          5.976,
          5.945,
          6.031,
          5.934,
          5.916,
          5.933,
          5.95,
          5.918,
          5.93,
          5.922,
          5.94,
          5.948,
          5.795,
          5.939,
          6.009,
          6.181,
          6.49
         ],
         "yaxis": "y"
        },
        {
         "domain": {
          "x": [
           0.7575,
           1
          ],
          "y": [
           0,
           1
          ]
         },
         "hovertemplate": "Tipo de Contenido=%{label}<br>Conteo=%{value}<extra></extra>",
         "labels": [
          "movie",
          "tvSeries"
         ],
         "legendgroup": "",
         "name": "",
         "showlegend": true,
         "textinfo": "percent+label",
         "textposition": "inside",
         "type": "pie",
         "values": [
          395998,
          83827
         ]
        },
        {
         "hovertemplate": "Tipo de Contenido=tvSeries<br>year=%{x}<br>Rating Promedio=%{y}<extra></extra>",
         "legendgroup": "tvSeries",
         "line": {
          "color": "#EF553B",
          "dash": "solid",
          "width": 2
         },
         "marker": {
          "size": 5,
          "symbol": "circle"
         },
         "mode": "lines+markers",
         "name": "tvSeries",
         "orientation": "v",
         "showlegend": true,
         "type": "scatter",
         "x": [
          1990,
          1991,
          1992,
          1993,
          1994,
          1995,
          1996,
          1997,
          1998,
          1999,
          2000,
          2001,
          2002,
          2003,
          2004,
          2005,
          2006,
          2007,
          2008,
          2009,
          2010,
          2011,
          2012,
          2013,
          2014,
          2015,
          2016,
          2017,
          2018,
          2019,
          2020,
          2021,
          2022,
          2023,
          2024
         ],
         "xaxis": "x",
         "y": [
          7.252,
          7.362,
          7.106,
          7.361,
          7.217,
          7.186,
          6.975,
          7.065,
          7.122,
          7.16,
          7.11,
          7.138,
          7.066,
          7.078,
          7.062,
          7.067,
          7.006,
          6.91,
          6.992,
          6.946,
          7.083,
          6.932,
          7.064,
          7.113,
          7.093,
          7.198,
          7.184,
          7.136,
          7.142,
          7.115,
          7.002,
          6.967,
          6.986,
          7.053,
          6.994
         ],
         "yaxis": "y"
        },
        {
         "domain": {
          "x": [
           0.7575,
           1
          ],
          "y": [
           0,
           1
          ]
         },
         "hovertemplate": "Tipo de Contenido=%{label}<br>Conteo=%{value}<extra></extra>",
         "labels": [
          "movie",
          "tvSeries"
         ],
         "legendgroup": "",
         "name": "",
         "showlegend": true,
         "textinfo": "percent+label",
         "textposition": "inside",
         "type": "pie",
         "values": [
          395998,
          83827
         ]
        }
       ],
       "layout": {
        "annotations": [
         {
          "font": {
           "size": 16
          },
          "showarrow": false,
          "text": "Rating promedio por año y contenido",
          "x": 0.36374999999999996,
          "xanchor": "center",
          "xref": "paper",
          "y": 1,
          "yanchor": "bottom",
          "yref": "paper"
         },
         {
          "font": {
           "size": 16
          },
          "showarrow": false,
          "text": "Distribución por Tipo de Contenido",
          "x": 0.8787499999999999,
          "xanchor": "center",
          "xref": "paper",
          "y": 1,
          "yanchor": "bottom",
          "yref": "paper"
         }
        ],
        "height": 300,
        "legend": {
         "x": 1,
         "y": 1
        },
        "margin": {
         "b": 20,
         "l": 20,
         "r": 20,
         "t": 50
        },
        "showlegend": true,
        "template": {
         "data": {
          "bar": [
           {
            "error_x": {
             "color": "#f2f5fa"
            },
            "error_y": {
             "color": "#f2f5fa"
            },
            "marker": {
             "line": {
              "color": "rgb(17,17,17)",
              "width": 0.5
             },
             "pattern": {
              "fillmode": "overlay",
              "size": 10,
              "solidity": 0.2
             }
            },
            "type": "bar"
           }
          ],
          "barpolar": [
           {
            "marker": {
             "line": {
              "color": "rgb(17,17,17)",
              "width": 0.5
             },
             "pattern": {
              "fillmode": "overlay",
              "size": 10,
              "solidity": 0.2
             }
            },
            "type": "barpolar"
           }
          ],
          "carpet": [
           {
            "aaxis": {
             "endlinecolor": "#A2B1C6",
             "gridcolor": "#506784",
             "linecolor": "#506784",
             "minorgridcolor": "#506784",
             "startlinecolor": "#A2B1C6"
            },
            "baxis": {
             "endlinecolor": "#A2B1C6",
             "gridcolor": "#506784",
             "linecolor": "#506784",
             "minorgridcolor": "#506784",
             "startlinecolor": "#A2B1C6"
            },
            "type": "carpet"
           }
          ],
          "choropleth": [
           {
            "colorbar": {
             "outlinewidth": 0,
             "ticks": ""
            },
            "type": "choropleth"
           }
          ],
          "contour": [
           {
            "colorbar": {
             "outlinewidth": 0,
             "ticks": ""
            },
            "colorscale": [
             [
              0,
              "#0d0887"
             ],
             [
              0.1111111111111111,
              "#46039f"
             ],
             [
              0.2222222222222222,
              "#7201a8"
             ],
             [
              0.3333333333333333,
              "#9c179e"
             ],
             [
              0.4444444444444444,
              "#bd3786"
             ],
             [
              0.5555555555555556,
              "#d8576b"
             ],
             [
              0.6666666666666666,
              "#ed7953"
             ],
             [
              0.7777777777777778,
              "#fb9f3a"
             ],
             [
              0.8888888888888888,
              "#fdca26"
             ],
             [
              1,
              "#f0f921"
             ]
            ],
            "type": "contour"
           }
          ],
          "contourcarpet": [
           {
            "colorbar": {
             "outlinewidth": 0,
             "ticks": ""
            },
            "type": "contourcarpet"
           }
          ],
          "heatmap": [
           {
            "colorbar": {
             "outlinewidth": 0,
             "ticks": ""
            },
            "colorscale": [
             [
              0,
              "#0d0887"
             ],
             [
              0.1111111111111111,
              "#46039f"
             ],
             [
              0.2222222222222222,
              "#7201a8"
             ],
             [
              0.3333333333333333,
              "#9c179e"
             ],
             [
              0.4444444444444444,
              "#bd3786"
             ],
             [
              0.5555555555555556,
              "#d8576b"
             ],
             [
              0.6666666666666666,
              "#ed7953"
             ],
             [
              0.7777777777777778,
              "#fb9f3a"
             ],
             [
              0.8888888888888888,
              "#fdca26"
             ],
             [
              1,
              "#f0f921"
             ]
            ],
            "type": "heatmap"
           }
          ],
          "heatmapgl": [
           {
            "colorbar": {
             "outlinewidth": 0,
             "ticks": ""
            },
            "colorscale": [
             [
              0,
              "#0d0887"
             ],
             [
              0.1111111111111111,
              "#46039f"
             ],
             [
              0.2222222222222222,
              "#7201a8"
             ],
             [
              0.3333333333333333,
              "#9c179e"
             ],
             [
              0.4444444444444444,
              "#bd3786"
             ],
             [
              0.5555555555555556,
              "#d8576b"
             ],
             [
              0.6666666666666666,
              "#ed7953"
             ],
             [
              0.7777777777777778,
              "#fb9f3a"
             ],
             [
              0.8888888888888888,
              "#fdca26"
             ],
             [
              1,
              "#f0f921"
             ]
            ],
            "type": "heatmapgl"
           }
          ],
          "histogram": [
           {
            "marker": {
             "pattern": {
              "fillmode": "overlay",
              "size": 10,
              "solidity": 0.2
             }
            },
            "type": "histogram"
           }
          ],
          "histogram2d": [
           {
            "colorbar": {
             "outlinewidth": 0,
             "ticks": ""
            },
            "colorscale": [
             [
              0,
              "#0d0887"
             ],
             [
              0.1111111111111111,
              "#46039f"
             ],
             [
              0.2222222222222222,
              "#7201a8"
             ],
             [
              0.3333333333333333,
              "#9c179e"
             ],
             [
              0.4444444444444444,
              "#bd3786"
             ],
             [
              0.5555555555555556,
              "#d8576b"
             ],
             [
              0.6666666666666666,
              "#ed7953"
             ],
             [
              0.7777777777777778,
              "#fb9f3a"
             ],
             [
              0.8888888888888888,
              "#fdca26"
             ],
             [
              1,
              "#f0f921"
             ]
            ],
            "type": "histogram2d"
           }
          ],
          "histogram2dcontour": [
           {
            "colorbar": {
             "outlinewidth": 0,
             "ticks": ""
            },
            "colorscale": [
             [
              0,
              "#0d0887"
             ],
             [
              0.1111111111111111,
              "#46039f"
             ],
             [
              0.2222222222222222,
              "#7201a8"
             ],
             [
              0.3333333333333333,
              "#9c179e"
             ],
             [
              0.4444444444444444,
              "#bd3786"
             ],
             [
              0.5555555555555556,
              "#d8576b"
             ],
             [
              0.6666666666666666,
              "#ed7953"
             ],
             [
              0.7777777777777778,
              "#fb9f3a"
             ],
             [
              0.8888888888888888,
              "#fdca26"
             ],
             [
              1,
              "#f0f921"
             ]
            ],
            "type": "histogram2dcontour"
           }
          ],
          "mesh3d": [
           {
            "colorbar": {
             "outlinewidth": 0,
             "ticks": ""
            },
            "type": "mesh3d"
           }
          ],
          "parcoords": [
           {
            "line": {
             "colorbar": {
              "outlinewidth": 0,
              "ticks": ""
             }
            },
            "type": "parcoords"
           }
          ],
          "pie": [
           {
            "automargin": true,
            "type": "pie"
           }
          ],
          "scatter": [
           {
            "marker": {
             "line": {
              "color": "#283442"
             }
            },
            "type": "scatter"
           }
          ],
          "scatter3d": [
           {
            "line": {
             "colorbar": {
              "outlinewidth": 0,
              "ticks": ""
             }
            },
            "marker": {
             "colorbar": {
              "outlinewidth": 0,
              "ticks": ""
             }
            },
            "type": "scatter3d"
           }
          ],
          "scattercarpet": [
           {
            "marker": {
             "colorbar": {
              "outlinewidth": 0,
              "ticks": ""
             }
            },
            "type": "scattercarpet"
           }
          ],
          "scattergeo": [
           {
            "marker": {
             "colorbar": {
              "outlinewidth": 0,
              "ticks": ""
             }
            },
            "type": "scattergeo"
           }
          ],
          "scattergl": [
           {
            "marker": {
             "line": {
              "color": "#283442"
             }
            },
            "type": "scattergl"
           }
          ],
          "scattermapbox": [
           {
            "marker": {
             "colorbar": {
              "outlinewidth": 0,
              "ticks": ""
             }
            },
            "type": "scattermapbox"
           }
          ],
          "scatterpolar": [
           {
            "marker": {
             "colorbar": {
              "outlinewidth": 0,
              "ticks": ""
             }
            },
            "type": "scatterpolar"
           }
          ],
          "scatterpolargl": [
           {
            "marker": {
             "colorbar": {
              "outlinewidth": 0,
              "ticks": ""
             }
            },
            "type": "scatterpolargl"
           }
          ],
          "scatterternary": [
           {
            "marker": {
             "colorbar": {
              "outlinewidth": 0,
              "ticks": ""
             }
            },
            "type": "scatterternary"
           }
          ],
          "surface": [
           {
            "colorbar": {
             "outlinewidth": 0,
             "ticks": ""
            },
            "colorscale": [
             [
              0,
              "#0d0887"
             ],
             [
              0.1111111111111111,
              "#46039f"
             ],
             [
              0.2222222222222222,
              "#7201a8"
             ],
             [
              0.3333333333333333,
              "#9c179e"
             ],
             [
              0.4444444444444444,
              "#bd3786"
             ],
             [
              0.5555555555555556,
              "#d8576b"
             ],
             [
              0.6666666666666666,
              "#ed7953"
             ],
             [
              0.7777777777777778,
              "#fb9f3a"
             ],
             [
              0.8888888888888888,
              "#fdca26"
             ],
             [
              1,
              "#f0f921"
             ]
            ],
            "type": "surface"
           }
          ],
          "table": [
           {
            "cells": {
             "fill": {
              "color": "#506784"
             },
             "line": {
              "color": "rgb(17,17,17)"
             }
            },
            "header": {
             "fill": {
              "color": "#2a3f5f"
             },
             "line": {
              "color": "rgb(17,17,17)"
             }
            },
            "type": "table"
           }
          ]
         },
         "layout": {
          "annotationdefaults": {
           "arrowcolor": "#f2f5fa",
           "arrowhead": 0,
           "arrowwidth": 1
          },
          "autotypenumbers": "strict",
          "coloraxis": {
           "colorbar": {
            "outlinewidth": 0,
            "ticks": ""
           }
          },
          "colorscale": {
           "diverging": [
            [
             0,
             "#8e0152"
            ],
            [
             0.1,
             "#c51b7d"
            ],
            [
             0.2,
             "#de77ae"
            ],
            [
             0.3,
             "#f1b6da"
            ],
            [
             0.4,
             "#fde0ef"
            ],
            [
             0.5,
             "#f7f7f7"
            ],
            [
             0.6,
             "#e6f5d0"
            ],
            [
             0.7,
             "#b8e186"
            ],
            [
             0.8,
             "#7fbc41"
            ],
            [
             0.9,
             "#4d9221"
            ],
            [
             1,
             "#276419"
            ]
           ],
           "sequential": [
            [
             0,
             "#0d0887"
            ],
            [
             0.1111111111111111,
             "#46039f"
            ],
            [
             0.2222222222222222,
             "#7201a8"
            ],
            [
             0.3333333333333333,
             "#9c179e"
            ],
            [
             0.4444444444444444,
             "#bd3786"
            ],
            [
             0.5555555555555556,
             "#d8576b"
            ],
            [
             0.6666666666666666,
             "#ed7953"
            ],
            [
             0.7777777777777778,
             "#fb9f3a"
            ],
            [
             0.8888888888888888,
             "#fdca26"
            ],
            [
             1,
             "#f0f921"
            ]
           ],
           "sequentialminus": [
            [
             0,
             "#0d0887"
            ],
            [
             0.1111111111111111,
             "#46039f"
            ],
            [
             0.2222222222222222,
             "#7201a8"
            ],
            [
             0.3333333333333333,
             "#9c179e"
            ],
            [
             0.4444444444444444,
             "#bd3786"
            ],
            [
             0.5555555555555556,
             "#d8576b"
            ],
            [
             0.6666666666666666,
             "#ed7953"
            ],
            [
             0.7777777777777778,
             "#fb9f3a"
            ],
            [
             0.8888888888888888,
             "#fdca26"
            ],
            [
             1,
             "#f0f921"
            ]
           ]
          },
          "colorway": [
           "#636efa",
           "#EF553B",
           "#00cc96",
           "#ab63fa",
           "#FFA15A",
           "#19d3f3",
           "#FF6692",
           "#B6E880",
           "#FF97FF",
           "#FECB52"
          ],
          "font": {
           "color": "#f2f5fa"
          },
          "geo": {
           "bgcolor": "rgb(17,17,17)",
           "lakecolor": "rgb(17,17,17)",
           "landcolor": "rgb(17,17,17)",
           "showlakes": true,
           "showland": true,
           "subunitcolor": "#506784"
          },
          "hoverlabel": {
           "align": "left"
          },
          "hovermode": "closest",
          "mapbox": {
           "style": "dark"
          },
          "paper_bgcolor": "rgb(17,17,17)",
          "plot_bgcolor": "rgb(17,17,17)",
          "polar": {
           "angularaxis": {
            "gridcolor": "#506784",
            "linecolor": "#506784",
            "ticks": ""
           },
           "bgcolor": "rgb(17,17,17)",
           "radialaxis": {
            "gridcolor": "#506784",
            "linecolor": "#506784",
            "ticks": ""
           }
          },
          "scene": {
           "xaxis": {
            "backgroundcolor": "rgb(17,17,17)",
            "gridcolor": "#506784",
            "gridwidth": 2,
            "linecolor": "#506784",
            "showbackground": true,
            "ticks": "",
            "zerolinecolor": "#C8D4E3"
           },
           "yaxis": {
            "backgroundcolor": "rgb(17,17,17)",
            "gridcolor": "#506784",
            "gridwidth": 2,
            "linecolor": "#506784",
            "showbackground": true,
            "ticks": "",
            "zerolinecolor": "#C8D4E3"
           },
           "zaxis": {
            "backgroundcolor": "rgb(17,17,17)",
            "gridcolor": "#506784",
            "gridwidth": 2,
            "linecolor": "#506784",
            "showbackground": true,
            "ticks": "",
            "zerolinecolor": "#C8D4E3"
           }
          },
          "shapedefaults": {
           "line": {
            "color": "#f2f5fa"
           }
          },
          "sliderdefaults": {
           "bgcolor": "#C8D4E3",
           "bordercolor": "rgb(17,17,17)",
           "borderwidth": 1,
           "tickwidth": 0
          },
          "ternary": {
           "aaxis": {
            "gridcolor": "#506784",
            "linecolor": "#506784",
            "ticks": ""
           },
           "baxis": {
            "gridcolor": "#506784",
            "linecolor": "#506784",
            "ticks": ""
           },
           "bgcolor": "rgb(17,17,17)",
           "caxis": {
            "gridcolor": "#506784",
            "linecolor": "#506784",
            "ticks": ""
           }
          },
          "title": {
           "x": 0.05
          },
          "updatemenudefaults": {
           "bgcolor": "#506784",
           "borderwidth": 0
          },
          "xaxis": {
           "automargin": true,
           "gridcolor": "#283442",
           "linecolor": "#506784",
           "ticks": "",
           "title": {
            "standoff": 15
           },
           "zerolinecolor": "#283442",
           "zerolinewidth": 2
          },
          "yaxis": {
           "automargin": true,
           "gridcolor": "#283442",
           "linecolor": "#506784",
           "ticks": "",
           "title": {
            "standoff": 15
           },
           "zerolinecolor": "#283442",
           "zerolinewidth": 2
          }
         }
        },
        "width": 1000,
        "xaxis": {
         "anchor": "y",
         "domain": [
          0,
          0.7274999999999999
         ]
        },
        "yaxis": {
         "anchor": "x",
         "domain": [
          0,
          1
         ]
        }
       }
      }
     },
     "metadata": {},
     "output_type": "display_data"
    }
   ],
   "source": [
    "def pregunta_1():\n",
    "    global df_title_basics, df_title_ratings, df_tmdb\n",
    "    \n",
    "    # Grafico de pizza.\n",
    "    df_title_basics_pizza = df_title_basics['titleType'].value_counts().reset_index()\n",
    "    df_title_basics_pizza.columns = ['Tipo de Contenido', 'Conteo']\n",
    "    \n",
    "    \n",
    "    # Crea el grafico de Pizza\n",
    "    fig_pie = px.pie(df_title_basics_pizza, names='Tipo de Contenido', values='Conteo',\n",
    "                 title='Distribución por Tipo de Contenido (Movies vs TVSeries)')\n",
    "             \n",
    "    # Mejorar la interactivida y apariencia del grafico de pizza\n",
    "    fig_pie.update_traces(textposition='inside', textinfo='percent+label')\n",
    "    fig_pie.update_layout(showlegend=True, template='plotly_dark')\n",
    "    # Fin grafico de Pizza\n",
    "    \n",
    "    # Grafico de linea tratamiento.\n",
    "    \n",
    "    df_merged = pd.merge(df_title_basics, df_title_ratings, on='tconst') # combinar DF \n",
    "    \n",
    "    df_merged['year'] = df_merged['startYear'].dt.year  #crear columna donde solo contenga los años \n",
    "    \n",
    "    # obtengo los años unico para luego poder hacer el intervalos de los años\n",
    "    years_movies = df_merged[df_merged['titleType']=='movie']['year'].unique()\n",
    "    years_tvSeries = df_merged[df_merged['titleType']=='tvSeries']['year'].unique()\n",
    "    \n",
    "    # intervalos para encontral en rango comun de años. Rango comun = 1947-2024\n",
    "    min_year = max(min(years_movies), min(years_tvSeries))\n",
    "    max_year = min(max(years_movies), max(years_tvSeries))\n",
    "    \n",
    "    # selecciono solo los anos que estan en el rango en comun. comenso en 1990\n",
    "    df_merged_filtered = df_merged[df_merged['year'].between(1990, max_year)]\n",
    "    \n",
    "    # Agrupar por las columnas year y title type y ontener la media arimetica de la columna average Rating \n",
    "    evolucion_rating = df_merged_filtered.groupby(['year', 'titleType'])['averageRating'].mean().unstack()\n",
    "    \n",
    "    \n",
    "    # Convertir el DataFrame agrupado a formato largo para usar con Plotly\n",
    "    evolucion_rating_reset = evolucion_rating.reset_index()\n",
    "    evolucion_rating_melted = evolucion_rating_reset.melt(id_vars=['year'], value_vars=['movie', 'tvSeries'],\n",
    "                                                      var_name='Tipo de Contenido', value_name='Rating Promedio')\n",
    "    \n",
    "    \n",
    "    # Reset a 3 decimales.\n",
    "    evolucion_rating_melted['Rating Promedio'] = evolucion_rating_melted['Rating Promedio'].round(3)\n",
    "    \n",
    "    # Crear el gráfico de linea.\n",
    "    fig_line = px.line(evolucion_rating_melted, x='year', y='Rating Promedio', color='Tipo de Contenido',\n",
    "             markers=True, title='Distribución por Tipo de Contenido (Movies vs TVSeries)')\n",
    "\n",
    "    # Mejorar la interactividad y apariencia\n",
    "    fig_line.update_layout(hovermode='x unified', template='plotly_dark')\n",
    "    fig_line.update_traces(marker=dict(size=5), line=dict(width=2))\n",
    "     # Fin grafico de linea\n",
    "\n",
    "\n",
    "\n",
    "\n",
    "    #Combinar los 2 graficos (Pizza y Linea)\n",
    "    # Crear el subplot\n",
    "    fig = make_subplots(\n",
    "        \n",
    "        rows=1, cols=2,\n",
    "        specs=[[{'type': 'xy'}, {'type': 'domain'}]],\n",
    "        column_widths=[0.60, 0.2],  # Ajustar el ancho de las columnas\n",
    "        subplot_titles=(\"Rating promedio por año y contenido\", \"Distribución por Tipo de Contenido\"),\n",
    "        horizontal_spacing=0.03 ) # Eliminar el espacio horizontal entre las subtramas\n",
    "\n",
    "\n",
    "    # Añadir el gráfico de líneas al subplot\n",
    "    for trace in fig_line.data:\n",
    "        fig.add_trace(trace, row=1, col=1)\n",
    "\n",
    "    # Añadir el gráfico de pizza al subplot usando las trazas del gráfico de pizza existente\n",
    "        for trace in fig_pie.data:\n",
    "            fig.add_trace(trace, row=1, col=2)\n",
    "    \n",
    "\n",
    "    # Ajustar la posición y el tamaño del gráfico de pizza\n",
    "    fig.update_layout(\n",
    "        height=300,\n",
    "        width=1000,\n",
    "        showlegend=True,\n",
    "        template='plotly_dark',\n",
    "        margin=dict(l=20, r=20, t=50, b=20),  # Ajustar los márgenes\n",
    "        legend=dict(x=1, y=1)  # Posicionar la leyenda más cerca del gráfico de pizza\n",
    ")\n",
    "\n",
    "    # Mostrar el gráfico\n",
    "    fig.show()\n",
    "    \n",
    "\n",
    "pregunta_1()\n",
    "    "
   ]
  },
  {
   "cell_type": "markdown",
   "metadata": {},
   "source": [
    "El análisis revela que las películas dominan el mercado del entretenimiento con un 82.5% del contenido, frente al 17.5% de las\n",
    "series de TV. Sin embargo, las series han mantenido consistentemente un rating superior, por encima de 7 puntos, mientras que las\n",
    "películas han oscilado alrededor de los 6 puntos, lo que sugiere una mayor satisfacción del público con este formato\n",
    "\n",
    "Notablemente, a partir de 2020, se observa un punto de inflexión significativo: el rating de las películas muestra un ascenso\n",
    "pronunciado, acercándose a los niveles de las series. Esta tendencia reciente sugiere un cambio en las preferencias de la audiencia en el  \n",
    "mercado del entretenimiento."
   ]
  },
  {
   "cell_type": "markdown",
   "metadata": {},
   "source": [
    "---------------------------------------------------------------------------------------------------------------------------------------"
   ]
  },
  {
   "cell_type": "markdown",
   "metadata": {},
   "source": [
    "Pregunta numero 2: ¿Cual es el rating promedio por género?"
   ]
  },
  {
   "cell_type": "code",
   "execution_count": 8,
   "metadata": {},
   "outputs": [
    {
     "data": {
      "application/vnd.plotly.v1+json": {
       "config": {
        "plotlyServerURL": "https://plot.ly"
       },
       "data": [
        {
         "name": "Cantidad por Genero",
         "text": [
          123544,
          70961,
          51226,
          29682,
          25406,
          24296,
          17045,
          13717,
          12820,
          9945,
          8852,
          7724,
          6987,
          6692,
          6559,
          6416,
          5756,
          5469,
          4312,
          4182
         ],
         "type": "bar",
         "x": [
          "Drama",
          "Comedy",
          "Documentary",
          "Romance",
          "Action",
          "Crime",
          "Adventure",
          "Horror",
          "Family",
          "Mystery",
          "Music",
          "Fantasy",
          "History",
          "Biography",
          "Animation",
          "Musical",
          "War",
          "Sci-Fi",
          "Sport",
          "Reality-TV"
         ],
         "y": [
          123544,
          70961,
          51226,
          29682,
          25406,
          24296,
          17045,
          13717,
          12820,
          9945,
          8852,
          7724,
          6987,
          6692,
          6559,
          6416,
          5756,
          5469,
          4312,
          4182
         ]
        },
        {
         "marker": {
          "color": "#229954"
         },
         "mode": "lines+markers",
         "name": "Rating Promedio",
         "type": "scatter",
         "x": [
          "Drama",
          "Comedy",
          "Documentary",
          "Romance",
          "Action",
          "Crime",
          "Adventure",
          "Horror",
          "Family",
          "Mystery",
          "Music",
          "Fantasy",
          "History",
          "Biography",
          "Animation",
          "Musical",
          "War",
          "Sci-Fi",
          "Sport",
          "Reality-TV"
         ],
         "xaxis": "x",
         "y": [
          6.3132,
          6.2523,
          6.1822,
          6.2855,
          6.1734,
          6.2811,
          6.2355,
          6.2837,
          6.2543,
          6.3053,
          6.2813,
          6.223,
          6.2455,
          6.2578000000000005,
          6.0952,
          6.3294,
          6.3172,
          6.2665,
          6.1867,
          6.2091
         ],
         "yaxis": "y2"
        }
       ],
       "layout": {
        "template": {
         "data": {
          "bar": [
           {
            "error_x": {
             "color": "#f2f5fa"
            },
            "error_y": {
             "color": "#f2f5fa"
            },
            "marker": {
             "line": {
              "color": "rgb(17,17,17)",
              "width": 0.5
             },
             "pattern": {
              "fillmode": "overlay",
              "size": 10,
              "solidity": 0.2
             }
            },
            "type": "bar"
           }
          ],
          "barpolar": [
           {
            "marker": {
             "line": {
              "color": "rgb(17,17,17)",
              "width": 0.5
             },
             "pattern": {
              "fillmode": "overlay",
              "size": 10,
              "solidity": 0.2
             }
            },
            "type": "barpolar"
           }
          ],
          "carpet": [
           {
            "aaxis": {
             "endlinecolor": "#A2B1C6",
             "gridcolor": "#506784",
             "linecolor": "#506784",
             "minorgridcolor": "#506784",
             "startlinecolor": "#A2B1C6"
            },
            "baxis": {
             "endlinecolor": "#A2B1C6",
             "gridcolor": "#506784",
             "linecolor": "#506784",
             "minorgridcolor": "#506784",
             "startlinecolor": "#A2B1C6"
            },
            "type": "carpet"
           }
          ],
          "choropleth": [
           {
            "colorbar": {
             "outlinewidth": 0,
             "ticks": ""
            },
            "type": "choropleth"
           }
          ],
          "contour": [
           {
            "colorbar": {
             "outlinewidth": 0,
             "ticks": ""
            },
            "colorscale": [
             [
              0,
              "#0d0887"
             ],
             [
              0.1111111111111111,
              "#46039f"
             ],
             [
              0.2222222222222222,
              "#7201a8"
             ],
             [
              0.3333333333333333,
              "#9c179e"
             ],
             [
              0.4444444444444444,
              "#bd3786"
             ],
             [
              0.5555555555555556,
              "#d8576b"
             ],
             [
              0.6666666666666666,
              "#ed7953"
             ],
             [
              0.7777777777777778,
              "#fb9f3a"
             ],
             [
              0.8888888888888888,
              "#fdca26"
             ],
             [
              1,
              "#f0f921"
             ]
            ],
            "type": "contour"
           }
          ],
          "contourcarpet": [
           {
            "colorbar": {
             "outlinewidth": 0,
             "ticks": ""
            },
            "type": "contourcarpet"
           }
          ],
          "heatmap": [
           {
            "colorbar": {
             "outlinewidth": 0,
             "ticks": ""
            },
            "colorscale": [
             [
              0,
              "#0d0887"
             ],
             [
              0.1111111111111111,
              "#46039f"
             ],
             [
              0.2222222222222222,
              "#7201a8"
             ],
             [
              0.3333333333333333,
              "#9c179e"
             ],
             [
              0.4444444444444444,
              "#bd3786"
             ],
             [
              0.5555555555555556,
              "#d8576b"
             ],
             [
              0.6666666666666666,
              "#ed7953"
             ],
             [
              0.7777777777777778,
              "#fb9f3a"
             ],
             [
              0.8888888888888888,
              "#fdca26"
             ],
             [
              1,
              "#f0f921"
             ]
            ],
            "type": "heatmap"
           }
          ],
          "heatmapgl": [
           {
            "colorbar": {
             "outlinewidth": 0,
             "ticks": ""
            },
            "colorscale": [
             [
              0,
              "#0d0887"
             ],
             [
              0.1111111111111111,
              "#46039f"
             ],
             [
              0.2222222222222222,
              "#7201a8"
             ],
             [
              0.3333333333333333,
              "#9c179e"
             ],
             [
              0.4444444444444444,
              "#bd3786"
             ],
             [
              0.5555555555555556,
              "#d8576b"
             ],
             [
              0.6666666666666666,
              "#ed7953"
             ],
             [
              0.7777777777777778,
              "#fb9f3a"
             ],
             [
              0.8888888888888888,
              "#fdca26"
             ],
             [
              1,
              "#f0f921"
             ]
            ],
            "type": "heatmapgl"
           }
          ],
          "histogram": [
           {
            "marker": {
             "pattern": {
              "fillmode": "overlay",
              "size": 10,
              "solidity": 0.2
             }
            },
            "type": "histogram"
           }
          ],
          "histogram2d": [
           {
            "colorbar": {
             "outlinewidth": 0,
             "ticks": ""
            },
            "colorscale": [
             [
              0,
              "#0d0887"
             ],
             [
              0.1111111111111111,
              "#46039f"
             ],
             [
              0.2222222222222222,
              "#7201a8"
             ],
             [
              0.3333333333333333,
              "#9c179e"
             ],
             [
              0.4444444444444444,
              "#bd3786"
             ],
             [
              0.5555555555555556,
              "#d8576b"
             ],
             [
              0.6666666666666666,
              "#ed7953"
             ],
             [
              0.7777777777777778,
              "#fb9f3a"
             ],
             [
              0.8888888888888888,
              "#fdca26"
             ],
             [
              1,
              "#f0f921"
             ]
            ],
            "type": "histogram2d"
           }
          ],
          "histogram2dcontour": [
           {
            "colorbar": {
             "outlinewidth": 0,
             "ticks": ""
            },
            "colorscale": [
             [
              0,
              "#0d0887"
             ],
             [
              0.1111111111111111,
              "#46039f"
             ],
             [
              0.2222222222222222,
              "#7201a8"
             ],
             [
              0.3333333333333333,
              "#9c179e"
             ],
             [
              0.4444444444444444,
              "#bd3786"
             ],
             [
              0.5555555555555556,
              "#d8576b"
             ],
             [
              0.6666666666666666,
              "#ed7953"
             ],
             [
              0.7777777777777778,
              "#fb9f3a"
             ],
             [
              0.8888888888888888,
              "#fdca26"
             ],
             [
              1,
              "#f0f921"
             ]
            ],
            "type": "histogram2dcontour"
           }
          ],
          "mesh3d": [
           {
            "colorbar": {
             "outlinewidth": 0,
             "ticks": ""
            },
            "type": "mesh3d"
           }
          ],
          "parcoords": [
           {
            "line": {
             "colorbar": {
              "outlinewidth": 0,
              "ticks": ""
             }
            },
            "type": "parcoords"
           }
          ],
          "pie": [
           {
            "automargin": true,
            "type": "pie"
           }
          ],
          "scatter": [
           {
            "marker": {
             "line": {
              "color": "#283442"
             }
            },
            "type": "scatter"
           }
          ],
          "scatter3d": [
           {
            "line": {
             "colorbar": {
              "outlinewidth": 0,
              "ticks": ""
             }
            },
            "marker": {
             "colorbar": {
              "outlinewidth": 0,
              "ticks": ""
             }
            },
            "type": "scatter3d"
           }
          ],
          "scattercarpet": [
           {
            "marker": {
             "colorbar": {
              "outlinewidth": 0,
              "ticks": ""
             }
            },
            "type": "scattercarpet"
           }
          ],
          "scattergeo": [
           {
            "marker": {
             "colorbar": {
              "outlinewidth": 0,
              "ticks": ""
             }
            },
            "type": "scattergeo"
           }
          ],
          "scattergl": [
           {
            "marker": {
             "line": {
              "color": "#283442"
             }
            },
            "type": "scattergl"
           }
          ],
          "scattermapbox": [
           {
            "marker": {
             "colorbar": {
              "outlinewidth": 0,
              "ticks": ""
             }
            },
            "type": "scattermapbox"
           }
          ],
          "scatterpolar": [
           {
            "marker": {
             "colorbar": {
              "outlinewidth": 0,
              "ticks": ""
             }
            },
            "type": "scatterpolar"
           }
          ],
          "scatterpolargl": [
           {
            "marker": {
             "colorbar": {
              "outlinewidth": 0,
              "ticks": ""
             }
            },
            "type": "scatterpolargl"
           }
          ],
          "scatterternary": [
           {
            "marker": {
             "colorbar": {
              "outlinewidth": 0,
              "ticks": ""
             }
            },
            "type": "scatterternary"
           }
          ],
          "surface": [
           {
            "colorbar": {
             "outlinewidth": 0,
             "ticks": ""
            },
            "colorscale": [
             [
              0,
              "#0d0887"
             ],
             [
              0.1111111111111111,
              "#46039f"
             ],
             [
              0.2222222222222222,
              "#7201a8"
             ],
             [
              0.3333333333333333,
              "#9c179e"
             ],
             [
              0.4444444444444444,
              "#bd3786"
             ],
             [
              0.5555555555555556,
              "#d8576b"
             ],
             [
              0.6666666666666666,
              "#ed7953"
             ],
             [
              0.7777777777777778,
              "#fb9f3a"
             ],
             [
              0.8888888888888888,
              "#fdca26"
             ],
             [
              1,
              "#f0f921"
             ]
            ],
            "type": "surface"
           }
          ],
          "table": [
           {
            "cells": {
             "fill": {
              "color": "#506784"
             },
             "line": {
              "color": "rgb(17,17,17)"
             }
            },
            "header": {
             "fill": {
              "color": "#2a3f5f"
             },
             "line": {
              "color": "rgb(17,17,17)"
             }
            },
            "type": "table"
           }
          ]
         },
         "layout": {
          "annotationdefaults": {
           "arrowcolor": "#f2f5fa",
           "arrowhead": 0,
           "arrowwidth": 1
          },
          "autotypenumbers": "strict",
          "coloraxis": {
           "colorbar": {
            "outlinewidth": 0,
            "ticks": ""
           }
          },
          "colorscale": {
           "diverging": [
            [
             0,
             "#8e0152"
            ],
            [
             0.1,
             "#c51b7d"
            ],
            [
             0.2,
             "#de77ae"
            ],
            [
             0.3,
             "#f1b6da"
            ],
            [
             0.4,
             "#fde0ef"
            ],
            [
             0.5,
             "#f7f7f7"
            ],
            [
             0.6,
             "#e6f5d0"
            ],
            [
             0.7,
             "#b8e186"
            ],
            [
             0.8,
             "#7fbc41"
            ],
            [
             0.9,
             "#4d9221"
            ],
            [
             1,
             "#276419"
            ]
           ],
           "sequential": [
            [
             0,
             "#0d0887"
            ],
            [
             0.1111111111111111,
             "#46039f"
            ],
            [
             0.2222222222222222,
             "#7201a8"
            ],
            [
             0.3333333333333333,
             "#9c179e"
            ],
            [
             0.4444444444444444,
             "#bd3786"
            ],
            [
             0.5555555555555556,
             "#d8576b"
            ],
            [
             0.6666666666666666,
             "#ed7953"
            ],
            [
             0.7777777777777778,
             "#fb9f3a"
            ],
            [
             0.8888888888888888,
             "#fdca26"
            ],
            [
             1,
             "#f0f921"
            ]
           ],
           "sequentialminus": [
            [
             0,
             "#0d0887"
            ],
            [
             0.1111111111111111,
             "#46039f"
            ],
            [
             0.2222222222222222,
             "#7201a8"
            ],
            [
             0.3333333333333333,
             "#9c179e"
            ],
            [
             0.4444444444444444,
             "#bd3786"
            ],
            [
             0.5555555555555556,
             "#d8576b"
            ],
            [
             0.6666666666666666,
             "#ed7953"
            ],
            [
             0.7777777777777778,
             "#fb9f3a"
            ],
            [
             0.8888888888888888,
             "#fdca26"
            ],
            [
             1,
             "#f0f921"
            ]
           ]
          },
          "colorway": [
           "#636efa",
           "#EF553B",
           "#00cc96",
           "#ab63fa",
           "#FFA15A",
           "#19d3f3",
           "#FF6692",
           "#B6E880",
           "#FF97FF",
           "#FECB52"
          ],
          "font": {
           "color": "#f2f5fa"
          },
          "geo": {
           "bgcolor": "rgb(17,17,17)",
           "lakecolor": "rgb(17,17,17)",
           "landcolor": "rgb(17,17,17)",
           "showlakes": true,
           "showland": true,
           "subunitcolor": "#506784"
          },
          "hoverlabel": {
           "align": "left"
          },
          "hovermode": "closest",
          "mapbox": {
           "style": "dark"
          },
          "paper_bgcolor": "rgb(17,17,17)",
          "plot_bgcolor": "rgb(17,17,17)",
          "polar": {
           "angularaxis": {
            "gridcolor": "#506784",
            "linecolor": "#506784",
            "ticks": ""
           },
           "bgcolor": "rgb(17,17,17)",
           "radialaxis": {
            "gridcolor": "#506784",
            "linecolor": "#506784",
            "ticks": ""
           }
          },
          "scene": {
           "xaxis": {
            "backgroundcolor": "rgb(17,17,17)",
            "gridcolor": "#506784",
            "gridwidth": 2,
            "linecolor": "#506784",
            "showbackground": true,
            "ticks": "",
            "zerolinecolor": "#C8D4E3"
           },
           "yaxis": {
            "backgroundcolor": "rgb(17,17,17)",
            "gridcolor": "#506784",
            "gridwidth": 2,
            "linecolor": "#506784",
            "showbackground": true,
            "ticks": "",
            "zerolinecolor": "#C8D4E3"
           },
           "zaxis": {
            "backgroundcolor": "rgb(17,17,17)",
            "gridcolor": "#506784",
            "gridwidth": 2,
            "linecolor": "#506784",
            "showbackground": true,
            "ticks": "",
            "zerolinecolor": "#C8D4E3"
           }
          },
          "shapedefaults": {
           "line": {
            "color": "#f2f5fa"
           }
          },
          "sliderdefaults": {
           "bgcolor": "#C8D4E3",
           "bordercolor": "rgb(17,17,17)",
           "borderwidth": 1,
           "tickwidth": 0
          },
          "ternary": {
           "aaxis": {
            "gridcolor": "#506784",
            "linecolor": "#506784",
            "ticks": ""
           },
           "baxis": {
            "gridcolor": "#506784",
            "linecolor": "#506784",
            "ticks": ""
           },
           "bgcolor": "rgb(17,17,17)",
           "caxis": {
            "gridcolor": "#506784",
            "linecolor": "#506784",
            "ticks": ""
           }
          },
          "title": {
           "x": 0.05
          },
          "updatemenudefaults": {
           "bgcolor": "#506784",
           "borderwidth": 0
          },
          "xaxis": {
           "automargin": true,
           "gridcolor": "#283442",
           "linecolor": "#506784",
           "ticks": "",
           "title": {
            "standoff": 15
           },
           "zerolinecolor": "#283442",
           "zerolinewidth": 2
          },
          "yaxis": {
           "automargin": true,
           "gridcolor": "#283442",
           "linecolor": "#506784",
           "ticks": "",
           "title": {
            "standoff": 15
           },
           "zerolinecolor": "#283442",
           "zerolinewidth": 2
          }
         }
        },
        "title": {
         "text": "Distribución y Rating Promedio por Género"
        },
        "width": 1000,
        "xaxis": {
         "anchor": "y",
         "domain": [
          0,
          0.94
         ],
         "tickangle": -45,
         "title": {
          "text": "Género"
         }
        },
        "yaxis": {
         "anchor": "x",
         "domain": [
          0,
          1
         ],
         "title": {
          "text": "Cantidad por Género"
         }
        },
        "yaxis2": {
         "anchor": "x",
         "overlaying": "y",
         "side": "right",
         "title": {
          "text": "Rating Promedio"
         }
        }
       }
      }
     },
     "metadata": {},
     "output_type": "display_data"
    }
   ],
   "source": [
    "def pregunta_2():\n",
    "    global df_title_basics, df_title_ratings, df_tmdb\n",
    "    \n",
    "    \n",
    "    # separar los generos en valores individuales (uso assign y split para mejor comprencion)\n",
    "    df_exploded = df_title_basics.assign(genre=df_title_basics['genres'].str.split(',').explode('genre'))\n",
    "    # df_exploded dataset con los generos separados.\n",
    "    \n",
    "     # uniendo los dataset por la columna tconst \n",
    "    df_merged_pg2 = df_exploded.merge(df_title_ratings, on='tconst') \n",
    "    \n",
    "    # lista de generos no deseados.\n",
    "    unwanted_genres = ['Short', 'Adult', 'News', 'Game-Show', 'Adult', 'Talk-Show', 'Western', 'Film-Noir','Thriller', 'TV Movie']\n",
    "\n",
    "    # filtral los generos no deseados.\n",
    "    df_merged_pg2 = df_merged_pg2[~df_merged_pg2['genre'].isin(unwanted_genres)]\n",
    "    \n",
    "    '''\"Muestreo de 1000 datos para obtener \n",
    "        medias con higualdad de provavilidades \n",
    "    ''' \n",
    "    # Creando DF vacio para llenar con los datos del muestreo.\n",
    "    df_genre_rating_sample = pd.DataFrame()\n",
    "    \n",
    "    # Agrupo por genero\n",
    "    df_genre_ratings = df_merged_pg2.groupby('genre')\n",
    "    \"\"\"\n",
    "     verifico mi generos para ver si nesecito muestreo con reemplazo. \n",
    "     print(df_genre_ratings['genre'].value_counts())\n",
    "     \n",
    "     y utiliso if y else, para usar reemplaso si el genero tiene menos de 1000 valores\n",
    "     y sin reemplaso si tiene mas de 1000 valores.\n",
    "     \n",
    "     df_genre_rating_sample['genre'].value_counts().head(20) # reviso si esta correcto \n",
    "     con 1000 muestras cada genero.\n",
    "    \"\"\"\n",
    "    for genre, group in df_genre_ratings:\n",
    "        if len(group)< 1000:\n",
    "            genre_sample = group.sample(n=1000, replace=True, random_state=100)\n",
    "        else:\n",
    "            genre_sample = group.sample(n=1000, random_state=100)\n",
    "    \n",
    "        df_genre_rating_sample = pd.concat([df_genre_rating_sample, genre_sample], ignore_index=True) \n",
    "        \n",
    "         # Agrupar por genero y obtener la media arimetica de los rating por genero.\n",
    "        df_genre_ratings = df_genre_rating_sample.groupby('genre')['averageRating'].mean().reset_index()\n",
    "        df_genre_ratings.columns = ['Genero', 'Rating Promedio']\n",
    "        \n",
    "        # creo un df con el total de cada genero.\n",
    "        df_genre_count = df_exploded['genre'].value_counts().reset_index()\n",
    "        df_genre_count.columns = ['Genero', 'Count']\n",
    "        \n",
    "        # Uniendo el df que contiene la contida de por generos y el que contiene el rating promedo por genero.\n",
    "        df_combined = df_genre_ratings.merge(df_genre_count, on='Genero')\n",
    "        df_combined = df_combined.sort_values('Count', ascending=False) # organizo decendente por la columna Count.\n",
    "        \n",
    "        \n",
    "        \n",
    "        \n",
    "         \n",
    "          # crear la fig combinada\n",
    "    fig_comb = make_subplots(specs=[[{'secondary_y': True}]])\n",
    "\n",
    "  \n",
    "  \n",
    "        # crear el grafico de barras.\n",
    "    fig_comb.add_trace(\n",
    "        go.Bar(x=df_combined['Genero'], y=df_combined['Count'], text=df_combined['Count'],\n",
    "            name='Cantidad por Genero'))\n",
    "\n",
    "       # Anadir la linea del Rating Promedio.\n",
    "    fig_comb.add_trace(\n",
    "        go.Scatter(x=df_combined['Genero'], y=df_combined['Rating Promedio'],\n",
    "            mode='lines+markers', name='Rating Promedio', marker=dict(color='#229954')),\n",
    "            secondary_y=True)\n",
    "\n",
    "\n",
    "        # Actualizar el layout\n",
    "    fig_comb.update_layout(\n",
    "        width=1000,\n",
    "        title_text='Distribución y Rating Promedio por Género',\n",
    "        xaxis_title='Género',\n",
    "        yaxis_title='Cantidad por Género',\n",
    "        xaxis=dict(\n",
    "        tickangle=-45 # inclina los nombres de generos en las barras a 45gd\n",
    "        ),\n",
    "        yaxis2=dict(\n",
    "        title='Rating Promedio',\n",
    "        overlaying='y',\n",
    "        side='right'),\n",
    "    \n",
    "        template='plotly_dark'\n",
    "    )\n",
    "\n",
    "        # Mostral el grafico.\n",
    "    fig_comb.show()\n",
    "        \n",
    "\n",
    "pregunta_2()\n",
    "           \n",
    "        "
   ]
  },
  {
   "cell_type": "markdown",
   "metadata": {},
   "source": [
    "El análisis muestra que drama y comedia son géneros con bastante producción y con uno de los mejores ratings.\n",
    "Sin embargo, otros géneros como musicales, guerra y ciencia ficción no son muy producidos pero son preferidos por el público\n",
    "debido a sus altos ratings promedio. Esto sugiere que estos géneros podrían ofrecer una buena oportunidad de inversión para \n",
    "mejorar la oferta de contenido y atraer a una audiencia que busca calidad en lugar de cantidad."
   ]
  },
  {
   "cell_type": "markdown",
   "metadata": {},
   "source": [
    "----------------------------------------------------------------------------------------------------------------------------------"
   ]
  },
  {
   "cell_type": "markdown",
   "metadata": {},
   "source": [
    "Pregunta 3: ¿Cuáles son los géneros que proporcionan mayor ROI?"
   ]
  },
  {
   "cell_type": "code",
   "execution_count": 9,
   "metadata": {},
   "outputs": [
    {
     "data": {
      "application/vnd.plotly.v1+json": {
       "config": {
        "plotlyServerURL": "https://plot.ly"
       },
       "data": [
        {
         "alignmentgroup": "True",
         "hovertemplate": "ROI Promedio=%{marker.color}<br>Genero=%{y}<extra></extra>",
         "legendgroup": "",
         "marker": {
          "color": [
           1.346,
           1.257,
           1.216,
           1.192,
           1.166,
           1.041,
           1.002,
           0.956,
           0.953,
           0.927
          ],
          "coloraxis": "coloraxis",
          "pattern": {
           "shape": ""
          }
         },
         "name": "",
         "offsetgroup": "",
         "orientation": "h",
         "showlegend": false,
         "textposition": "auto",
         "type": "bar",
         "x": [
          1.346,
          1.257,
          1.216,
          1.192,
          1.166,
          1.041,
          1.002,
          0.956,
          0.953,
          0.927
         ],
         "xaxis": "x",
         "y": [
          "Adventure",
          "Science Fiction",
          "Animation",
          "Action",
          "Fantasy",
          "War",
          "Mystery",
          "Family",
          "Music",
          "Comedy"
         ],
         "yaxis": "y"
        }
       ],
       "layout": {
        "barmode": "relative",
        "coloraxis": {
         "colorbar": {
          "title": {
           "text": "ROI Promedio"
          }
         },
         "colorscale": [
          [
           0,
           "#0000FF"
          ],
          [
           0.1111111111111111,
           "#1E90FF"
          ],
          [
           0.2222222222222222,
           "#4169E1"
          ],
          [
           0.3333333333333333,
           "#6495ED"
          ],
          [
           0.4444444444444444,
           "#7B68EE"
          ],
          [
           0.5555555555555556,
           "#6A5ACD"
          ],
          [
           0.6666666666666666,
           "#8A2BE2"
          ],
          [
           0.7777777777777778,
           "#9370DB"
          ],
          [
           0.8888888888888888,
           "#8B008B"
          ],
          [
           1,
           "#9400D3"
          ]
         ]
        },
        "font": {
         "size": 12
        },
        "legend": {
         "tracegroupgap": 0
        },
        "margin": {
         "l": 15,
         "t": 60
        },
        "template": {
         "data": {
          "bar": [
           {
            "error_x": {
             "color": "#f2f5fa"
            },
            "error_y": {
             "color": "#f2f5fa"
            },
            "marker": {
             "line": {
              "color": "rgb(17,17,17)",
              "width": 0.5
             },
             "pattern": {
              "fillmode": "overlay",
              "size": 10,
              "solidity": 0.2
             }
            },
            "type": "bar"
           }
          ],
          "barpolar": [
           {
            "marker": {
             "line": {
              "color": "rgb(17,17,17)",
              "width": 0.5
             },
             "pattern": {
              "fillmode": "overlay",
              "size": 10,
              "solidity": 0.2
             }
            },
            "type": "barpolar"
           }
          ],
          "carpet": [
           {
            "aaxis": {
             "endlinecolor": "#A2B1C6",
             "gridcolor": "#506784",
             "linecolor": "#506784",
             "minorgridcolor": "#506784",
             "startlinecolor": "#A2B1C6"
            },
            "baxis": {
             "endlinecolor": "#A2B1C6",
             "gridcolor": "#506784",
             "linecolor": "#506784",
             "minorgridcolor": "#506784",
             "startlinecolor": "#A2B1C6"
            },
            "type": "carpet"
           }
          ],
          "choropleth": [
           {
            "colorbar": {
             "outlinewidth": 0,
             "ticks": ""
            },
            "type": "choropleth"
           }
          ],
          "contour": [
           {
            "colorbar": {
             "outlinewidth": 0,
             "ticks": ""
            },
            "colorscale": [
             [
              0,
              "#0d0887"
             ],
             [
              0.1111111111111111,
              "#46039f"
             ],
             [
              0.2222222222222222,
              "#7201a8"
             ],
             [
              0.3333333333333333,
              "#9c179e"
             ],
             [
              0.4444444444444444,
              "#bd3786"
             ],
             [
              0.5555555555555556,
              "#d8576b"
             ],
             [
              0.6666666666666666,
              "#ed7953"
             ],
             [
              0.7777777777777778,
              "#fb9f3a"
             ],
             [
              0.8888888888888888,
              "#fdca26"
             ],
             [
              1,
              "#f0f921"
             ]
            ],
            "type": "contour"
           }
          ],
          "contourcarpet": [
           {
            "colorbar": {
             "outlinewidth": 0,
             "ticks": ""
            },
            "type": "contourcarpet"
           }
          ],
          "heatmap": [
           {
            "colorbar": {
             "outlinewidth": 0,
             "ticks": ""
            },
            "colorscale": [
             [
              0,
              "#0d0887"
             ],
             [
              0.1111111111111111,
              "#46039f"
             ],
             [
              0.2222222222222222,
              "#7201a8"
             ],
             [
              0.3333333333333333,
              "#9c179e"
             ],
             [
              0.4444444444444444,
              "#bd3786"
             ],
             [
              0.5555555555555556,
              "#d8576b"
             ],
             [
              0.6666666666666666,
              "#ed7953"
             ],
             [
              0.7777777777777778,
              "#fb9f3a"
             ],
             [
              0.8888888888888888,
              "#fdca26"
             ],
             [
              1,
              "#f0f921"
             ]
            ],
            "type": "heatmap"
           }
          ],
          "heatmapgl": [
           {
            "colorbar": {
             "outlinewidth": 0,
             "ticks": ""
            },
            "colorscale": [
             [
              0,
              "#0d0887"
             ],
             [
              0.1111111111111111,
              "#46039f"
             ],
             [
              0.2222222222222222,
              "#7201a8"
             ],
             [
              0.3333333333333333,
              "#9c179e"
             ],
             [
              0.4444444444444444,
              "#bd3786"
             ],
             [
              0.5555555555555556,
              "#d8576b"
             ],
             [
              0.6666666666666666,
              "#ed7953"
             ],
             [
              0.7777777777777778,
              "#fb9f3a"
             ],
             [
              0.8888888888888888,
              "#fdca26"
             ],
             [
              1,
              "#f0f921"
             ]
            ],
            "type": "heatmapgl"
           }
          ],
          "histogram": [
           {
            "marker": {
             "pattern": {
              "fillmode": "overlay",
              "size": 10,
              "solidity": 0.2
             }
            },
            "type": "histogram"
           }
          ],
          "histogram2d": [
           {
            "colorbar": {
             "outlinewidth": 0,
             "ticks": ""
            },
            "colorscale": [
             [
              0,
              "#0d0887"
             ],
             [
              0.1111111111111111,
              "#46039f"
             ],
             [
              0.2222222222222222,
              "#7201a8"
             ],
             [
              0.3333333333333333,
              "#9c179e"
             ],
             [
              0.4444444444444444,
              "#bd3786"
             ],
             [
              0.5555555555555556,
              "#d8576b"
             ],
             [
              0.6666666666666666,
              "#ed7953"
             ],
             [
              0.7777777777777778,
              "#fb9f3a"
             ],
             [
              0.8888888888888888,
              "#fdca26"
             ],
             [
              1,
              "#f0f921"
             ]
            ],
            "type": "histogram2d"
           }
          ],
          "histogram2dcontour": [
           {
            "colorbar": {
             "outlinewidth": 0,
             "ticks": ""
            },
            "colorscale": [
             [
              0,
              "#0d0887"
             ],
             [
              0.1111111111111111,
              "#46039f"
             ],
             [
              0.2222222222222222,
              "#7201a8"
             ],
             [
              0.3333333333333333,
              "#9c179e"
             ],
             [
              0.4444444444444444,
              "#bd3786"
             ],
             [
              0.5555555555555556,
              "#d8576b"
             ],
             [
              0.6666666666666666,
              "#ed7953"
             ],
             [
              0.7777777777777778,
              "#fb9f3a"
             ],
             [
              0.8888888888888888,
              "#fdca26"
             ],
             [
              1,
              "#f0f921"
             ]
            ],
            "type": "histogram2dcontour"
           }
          ],
          "mesh3d": [
           {
            "colorbar": {
             "outlinewidth": 0,
             "ticks": ""
            },
            "type": "mesh3d"
           }
          ],
          "parcoords": [
           {
            "line": {
             "colorbar": {
              "outlinewidth": 0,
              "ticks": ""
             }
            },
            "type": "parcoords"
           }
          ],
          "pie": [
           {
            "automargin": true,
            "type": "pie"
           }
          ],
          "scatter": [
           {
            "marker": {
             "line": {
              "color": "#283442"
             }
            },
            "type": "scatter"
           }
          ],
          "scatter3d": [
           {
            "line": {
             "colorbar": {
              "outlinewidth": 0,
              "ticks": ""
             }
            },
            "marker": {
             "colorbar": {
              "outlinewidth": 0,
              "ticks": ""
             }
            },
            "type": "scatter3d"
           }
          ],
          "scattercarpet": [
           {
            "marker": {
             "colorbar": {
              "outlinewidth": 0,
              "ticks": ""
             }
            },
            "type": "scattercarpet"
           }
          ],
          "scattergeo": [
           {
            "marker": {
             "colorbar": {
              "outlinewidth": 0,
              "ticks": ""
             }
            },
            "type": "scattergeo"
           }
          ],
          "scattergl": [
           {
            "marker": {
             "line": {
              "color": "#283442"
             }
            },
            "type": "scattergl"
           }
          ],
          "scattermapbox": [
           {
            "marker": {
             "colorbar": {
              "outlinewidth": 0,
              "ticks": ""
             }
            },
            "type": "scattermapbox"
           }
          ],
          "scatterpolar": [
           {
            "marker": {
             "colorbar": {
              "outlinewidth": 0,
              "ticks": ""
             }
            },
            "type": "scatterpolar"
           }
          ],
          "scatterpolargl": [
           {
            "marker": {
             "colorbar": {
              "outlinewidth": 0,
              "ticks": ""
             }
            },
            "type": "scatterpolargl"
           }
          ],
          "scatterternary": [
           {
            "marker": {
             "colorbar": {
              "outlinewidth": 0,
              "ticks": ""
             }
            },
            "type": "scatterternary"
           }
          ],
          "surface": [
           {
            "colorbar": {
             "outlinewidth": 0,
             "ticks": ""
            },
            "colorscale": [
             [
              0,
              "#0d0887"
             ],
             [
              0.1111111111111111,
              "#46039f"
             ],
             [
              0.2222222222222222,
              "#7201a8"
             ],
             [
              0.3333333333333333,
              "#9c179e"
             ],
             [
              0.4444444444444444,
              "#bd3786"
             ],
             [
              0.5555555555555556,
              "#d8576b"
             ],
             [
              0.6666666666666666,
              "#ed7953"
             ],
             [
              0.7777777777777778,
              "#fb9f3a"
             ],
             [
              0.8888888888888888,
              "#fdca26"
             ],
             [
              1,
              "#f0f921"
             ]
            ],
            "type": "surface"
           }
          ],
          "table": [
           {
            "cells": {
             "fill": {
              "color": "#506784"
             },
             "line": {
              "color": "rgb(17,17,17)"
             }
            },
            "header": {
             "fill": {
              "color": "#2a3f5f"
             },
             "line": {
              "color": "rgb(17,17,17)"
             }
            },
            "type": "table"
           }
          ]
         },
         "layout": {
          "annotationdefaults": {
           "arrowcolor": "#f2f5fa",
           "arrowhead": 0,
           "arrowwidth": 1
          },
          "autotypenumbers": "strict",
          "coloraxis": {
           "colorbar": {
            "outlinewidth": 0,
            "ticks": ""
           }
          },
          "colorscale": {
           "diverging": [
            [
             0,
             "#8e0152"
            ],
            [
             0.1,
             "#c51b7d"
            ],
            [
             0.2,
             "#de77ae"
            ],
            [
             0.3,
             "#f1b6da"
            ],
            [
             0.4,
             "#fde0ef"
            ],
            [
             0.5,
             "#f7f7f7"
            ],
            [
             0.6,
             "#e6f5d0"
            ],
            [
             0.7,
             "#b8e186"
            ],
            [
             0.8,
             "#7fbc41"
            ],
            [
             0.9,
             "#4d9221"
            ],
            [
             1,
             "#276419"
            ]
           ],
           "sequential": [
            [
             0,
             "#0d0887"
            ],
            [
             0.1111111111111111,
             "#46039f"
            ],
            [
             0.2222222222222222,
             "#7201a8"
            ],
            [
             0.3333333333333333,
             "#9c179e"
            ],
            [
             0.4444444444444444,
             "#bd3786"
            ],
            [
             0.5555555555555556,
             "#d8576b"
            ],
            [
             0.6666666666666666,
             "#ed7953"
            ],
            [
             0.7777777777777778,
             "#fb9f3a"
            ],
            [
             0.8888888888888888,
             "#fdca26"
            ],
            [
             1,
             "#f0f921"
            ]
           ],
           "sequentialminus": [
            [
             0,
             "#0d0887"
            ],
            [
             0.1111111111111111,
             "#46039f"
            ],
            [
             0.2222222222222222,
             "#7201a8"
            ],
            [
             0.3333333333333333,
             "#9c179e"
            ],
            [
             0.4444444444444444,
             "#bd3786"
            ],
            [
             0.5555555555555556,
             "#d8576b"
            ],
            [
             0.6666666666666666,
             "#ed7953"
            ],
            [
             0.7777777777777778,
             "#fb9f3a"
            ],
            [
             0.8888888888888888,
             "#fdca26"
            ],
            [
             1,
             "#f0f921"
            ]
           ]
          },
          "colorway": [
           "#636efa",
           "#EF553B",
           "#00cc96",
           "#ab63fa",
           "#FFA15A",
           "#19d3f3",
           "#FF6692",
           "#B6E880",
           "#FF97FF",
           "#FECB52"
          ],
          "font": {
           "color": "#f2f5fa"
          },
          "geo": {
           "bgcolor": "rgb(17,17,17)",
           "lakecolor": "rgb(17,17,17)",
           "landcolor": "rgb(17,17,17)",
           "showlakes": true,
           "showland": true,
           "subunitcolor": "#506784"
          },
          "hoverlabel": {
           "align": "left"
          },
          "hovermode": "closest",
          "mapbox": {
           "style": "dark"
          },
          "paper_bgcolor": "rgb(17,17,17)",
          "plot_bgcolor": "rgb(17,17,17)",
          "polar": {
           "angularaxis": {
            "gridcolor": "#506784",
            "linecolor": "#506784",
            "ticks": ""
           },
           "bgcolor": "rgb(17,17,17)",
           "radialaxis": {
            "gridcolor": "#506784",
            "linecolor": "#506784",
            "ticks": ""
           }
          },
          "scene": {
           "xaxis": {
            "backgroundcolor": "rgb(17,17,17)",
            "gridcolor": "#506784",
            "gridwidth": 2,
            "linecolor": "#506784",
            "showbackground": true,
            "ticks": "",
            "zerolinecolor": "#C8D4E3"
           },
           "yaxis": {
            "backgroundcolor": "rgb(17,17,17)",
            "gridcolor": "#506784",
            "gridwidth": 2,
            "linecolor": "#506784",
            "showbackground": true,
            "ticks": "",
            "zerolinecolor": "#C8D4E3"
           },
           "zaxis": {
            "backgroundcolor": "rgb(17,17,17)",
            "gridcolor": "#506784",
            "gridwidth": 2,
            "linecolor": "#506784",
            "showbackground": true,
            "ticks": "",
            "zerolinecolor": "#C8D4E3"
           }
          },
          "shapedefaults": {
           "line": {
            "color": "#f2f5fa"
           }
          },
          "sliderdefaults": {
           "bgcolor": "#C8D4E3",
           "bordercolor": "rgb(17,17,17)",
           "borderwidth": 1,
           "tickwidth": 0
          },
          "ternary": {
           "aaxis": {
            "gridcolor": "#506784",
            "linecolor": "#506784",
            "ticks": ""
           },
           "baxis": {
            "gridcolor": "#506784",
            "linecolor": "#506784",
            "ticks": ""
           },
           "bgcolor": "rgb(17,17,17)",
           "caxis": {
            "gridcolor": "#506784",
            "linecolor": "#506784",
            "ticks": ""
           }
          },
          "title": {
           "x": 0.05
          },
          "updatemenudefaults": {
           "bgcolor": "#506784",
           "borderwidth": 0
          },
          "xaxis": {
           "automargin": true,
           "gridcolor": "#283442",
           "linecolor": "#506784",
           "ticks": "",
           "title": {
            "standoff": 15
           },
           "zerolinecolor": "#283442",
           "zerolinewidth": 2
          },
          "yaxis": {
           "automargin": true,
           "gridcolor": "#283442",
           "linecolor": "#506784",
           "ticks": "",
           "title": {
            "standoff": 15
           },
           "zerolinecolor": "#283442",
           "zerolinewidth": 2
          }
         }
        },
        "title": {
         "pad": {
          "b": -50,
          "t": -30
         },
         "text": "Top 10 Generos con Mayor RIO Promedio",
         "x": 0.5,
         "xanchor": "right",
         "y": 0.9,
         "yanchor": "top"
        },
        "width": 1000,
        "xaxis": {
         "anchor": "y",
         "domain": [
          0,
          1
         ],
         "title": {
          "text": "RIO Promedio"
         }
        },
        "yaxis": {
         "anchor": "x",
         "domain": [
          0,
          1
         ],
         "title": {}
        }
       }
      }
     },
     "metadata": {},
     "output_type": "display_data"
    }
   ],
   "source": [
    "def pregunta_3():\n",
    "    global df_title_basics, df_title_ratings, df_tmdb\n",
    "    \n",
    "    \n",
    "    # separa los generos y crea la columna genero con los generos por separados.\n",
    "    df_tmdb_genre = df_tmdb.assign(genre=df_tmdb['genres'].str.split(',').explode('genre'))\n",
    "    \n",
    "    \n",
    "    # Eliminar espacios en blanco al inicio y al final de cada genero con strip.\n",
    "    df_tmdb_genre['genre'] = df_tmdb_genre['genre'].str.strip()\n",
    "    \n",
    "    ''' filtral los generos no deseados.\n",
    "        unwanted_genres es la lista de generos no deseados. \n",
    "    '''\n",
    "    # lista de generos no deseados.\n",
    "    unwanted_genres = ['Short', 'Adult', 'News', 'Game-Show', 'Adult', 'Talk-Show', 'Western', 'Film-Noir','Thriller', 'TV Movie']\n",
    "    df_tmdb_genre = df_tmdb_genre[~df_tmdb_genre['genre'].isin(unwanted_genres)]\n",
    "    \n",
    "    # crea el df df_genre_roi con los generos agrupados y la media arimetica del roi por genero y lo muestra decendiendo.\n",
    "    df_tmdb_genre_roi = df_tmdb_genre.groupby('genre')['roi'].mean().sort_values(ascending=False).reset_index()\n",
    "    df_tmdb_genre_roi.columns = ['Genero', 'ROI Promedio']\n",
    "\n",
    "    ''' creo un df con los 10 generos con mayor roi.\n",
    "        redondeo a 3 decimales antes del grafico para que tengo enfecto en el grafico.\n",
    "    '''\n",
    "    top_10_roi = round(df_tmdb_genre_roi.head(10), 3)  \n",
    "    \n",
    "    # Paleta de colores para el grafico, se pasa como argumento en color_continuous_scale\n",
    "    #colors = px.colors.sequential.Plasma[1:5] se  puede usar esta opcion si da error.\n",
    "    colors = ['#0000FF', '#1E90FF', '#4169E1', '#6495ED', '#7B68EE', '#6A5ACD', '#8A2BE2', '#9370DB', '#8B008B', '#9400D3']\n",
    "    \n",
    "    \n",
    "    fig_rio = px.bar(top_10_roi, x='ROI Promedio', y='Genero',\n",
    "                    title='Top 10 Generos con Mayor ROI Promedio',\n",
    "                    labels={'Genero':'Genero','ROI Promedio':'ROI Promedio'},\n",
    "                    orientation='h',\n",
    "                    template='plotly_dark',\n",
    "                    color=top_10_roi['ROI Promedio'],\n",
    "                    color_continuous_scale=colors)\n",
    "\n",
    "    #fig_rio.update_traces(marker_line_width=1, marker_line_color='rgba(0,0,0,0)')\n",
    "\n",
    "\n",
    "    # detayes del Grafico.\n",
    "    fig_rio.update_layout(\n",
    "        width=1000,\n",
    "        xaxis_title='RIO Promedio',\n",
    "        yaxis_title=None,\n",
    "        title={\n",
    "            'text': 'Top 10 Generos con Mayor RIO Promedio',\n",
    "            'y':0.9,\n",
    "            'x':0.5,\n",
    "            'xanchor': 'right',\n",
    "            'yanchor': 'top',\n",
    "            'pad': dict(t=-30, b=-50)\n",
    "            },\n",
    "        font=dict(size=12),\n",
    "        margin=dict(l=15, t=60)\n",
    "    \n",
    "    )\n",
    "\n",
    "    fig_rio.show()\n",
    "    \n",
    "pregunta_3()\n"
   ]
  },
  {
   "cell_type": "markdown",
   "metadata": {},
   "source": [
    "El análisis revela que Adventura, sciencia Ficcion y Animacion son los géneros más rentables en términos de ROI.\n",
    "Sin embargo, géneros como Accion, Fantasia y Guerra,también proporcionan un alto ROI,\n",
    "lo que los hace atractivos para futuras inversiones."
   ]
  },
  {
   "cell_type": "markdown",
   "metadata": {},
   "source": [
    "---------------------------------------------------------------------------------------------------------------------------------"
   ]
  },
  {
   "cell_type": "markdown",
   "metadata": {},
   "source": [
    "Pregunta 4: ¿Cuáles son los países con mayor producción de contenido?"
   ]
  },
  {
   "cell_type": "code",
   "execution_count": 10,
   "metadata": {},
   "outputs": [
    {
     "name": "stderr",
     "output_type": "stream",
     "text": [
      "C:\\Users\\Chamo\\AppData\\Local\\Temp\\ipykernel_20112\\781378047.py:1: DeprecationWarning:\n",
      "\n",
      "'cgitb' is deprecated and slated for removal in Python 3.13\n",
      "\n"
     ]
    },
    {
     "data": {
      "application/vnd.plotly.v1+json": {
       "config": {
        "plotlyServerURL": "https://plot.ly"
       },
       "data": [
        {
         "hovertemplate": "<b>%{hovertext}</b><br><br>Count=%{marker.size}<br>roi=%{marker.color}<br>Porcentage=%{text}<extra></extra>",
         "hovertext": [
          "United States of America",
          "United Kingdom",
          "France",
          "India",
          "Germany",
          "Canada",
          "Japan",
          "Spain",
          "Italy",
          "Russia",
          "China",
          "Australia",
          "Belgium",
          "Hong Kong",
          "South Korea"
         ],
         "legendgroup": "",
         "marker": {
          "color": [
           1.134,
           0.853,
           0.548,
           1.433,
           0.56,
           0.714,
           0.997,
           0.517,
           0.23,
           0.414,
           1.104,
           0.76,
           0.035,
           1.006,
           1.455
          ],
          "coloraxis": "coloraxis",
          "line": {
           "color": "black",
           "width": 1
          },
          "size": [
           5933,
           1003,
           727,
           513,
           484,
           423,
           210,
           207,
           199,
           198,
           158,
           156,
           137,
           112,
           83
          ],
          "sizemode": "area",
          "sizeref": 0.35106508875739645,
          "symbol": "circle"
         },
         "mode": "markers+text",
         "name": "",
         "orientation": "v",
         "showlegend": false,
         "text": [
          "50.94%",
          "8.61%",
          "6.24%",
          "4.4%",
          "4.16%",
          "3.63%",
          "1.8%",
          "1.78%",
          "1.71%",
          "1.7%",
          "1.36%",
          "1.34%",
          "1.18%",
          "0.96%",
          "0.71%"
         ],
         "textfont": {
          "color": "white",
          "family": "Arial Black",
          "size": [
           20,
           7.3589743589743595,
           6.651282051282051,
           6.102564102564102,
           6.028205128205128,
           5.871794871794872,
           5.325641025641025,
           5.317948717948718,
           5.297435897435897,
           5.294871794871795,
           5.1923076923076925,
           5.187179487179487,
           5.138461538461539,
           5.074358974358974,
           5
          ]
         },
         "textposition": "middle center",
         "texttemplate": "%{text}",
         "type": "scatter",
         "x": [
          5933,
          1003,
          727,
          513,
          484,
          423,
          210,
          207,
          199,
          198,
          158,
          156,
          137,
          112,
          83
         ],
         "xaxis": "x",
         "y": [
          1.134,
          0.853,
          0.548,
          1.433,
          0.56,
          0.714,
          0.997,
          0.517,
          0.23,
          0.414,
          1.104,
          0.76,
          0.035,
          1.006,
          1.455
         ],
         "yaxis": "y"
        }
       ],
       "layout": {
        "coloraxis": {
         "colorbar": {
          "title": {
           "text": "roi"
          }
         },
         "colorscale": [
          [
           0,
           "#440154"
          ],
          [
           0.1111111111111111,
           "#482878"
          ],
          [
           0.2222222222222222,
           "#3e4989"
          ],
          [
           0.3333333333333333,
           "#31688e"
          ],
          [
           0.4444444444444444,
           "#26828e"
          ],
          [
           0.5555555555555556,
           "#1f9e89"
          ],
          [
           0.6666666666666666,
           "#35b779"
          ],
          [
           0.7777777777777778,
           "#6ece58"
          ],
          [
           0.8888888888888888,
           "#b5de2b"
          ],
          [
           1,
           "#fde725"
          ]
         ]
        },
        "font": {
         "size": 12
        },
        "legend": {
         "itemsizing": "constant",
         "tracegroupgap": 0
        },
        "margin": {
         "b": 0,
         "l": 0,
         "r": 0,
         "t": 30
        },
        "template": {
         "data": {
          "bar": [
           {
            "error_x": {
             "color": "#f2f5fa"
            },
            "error_y": {
             "color": "#f2f5fa"
            },
            "marker": {
             "line": {
              "color": "rgb(17,17,17)",
              "width": 0.5
             },
             "pattern": {
              "fillmode": "overlay",
              "size": 10,
              "solidity": 0.2
             }
            },
            "type": "bar"
           }
          ],
          "barpolar": [
           {
            "marker": {
             "line": {
              "color": "rgb(17,17,17)",
              "width": 0.5
             },
             "pattern": {
              "fillmode": "overlay",
              "size": 10,
              "solidity": 0.2
             }
            },
            "type": "barpolar"
           }
          ],
          "carpet": [
           {
            "aaxis": {
             "endlinecolor": "#A2B1C6",
             "gridcolor": "#506784",
             "linecolor": "#506784",
             "minorgridcolor": "#506784",
             "startlinecolor": "#A2B1C6"
            },
            "baxis": {
             "endlinecolor": "#A2B1C6",
             "gridcolor": "#506784",
             "linecolor": "#506784",
             "minorgridcolor": "#506784",
             "startlinecolor": "#A2B1C6"
            },
            "type": "carpet"
           }
          ],
          "choropleth": [
           {
            "colorbar": {
             "outlinewidth": 0,
             "ticks": ""
            },
            "type": "choropleth"
           }
          ],
          "contour": [
           {
            "colorbar": {
             "outlinewidth": 0,
             "ticks": ""
            },
            "colorscale": [
             [
              0,
              "#0d0887"
             ],
             [
              0.1111111111111111,
              "#46039f"
             ],
             [
              0.2222222222222222,
              "#7201a8"
             ],
             [
              0.3333333333333333,
              "#9c179e"
             ],
             [
              0.4444444444444444,
              "#bd3786"
             ],
             [
              0.5555555555555556,
              "#d8576b"
             ],
             [
              0.6666666666666666,
              "#ed7953"
             ],
             [
              0.7777777777777778,
              "#fb9f3a"
             ],
             [
              0.8888888888888888,
              "#fdca26"
             ],
             [
              1,
              "#f0f921"
             ]
            ],
            "type": "contour"
           }
          ],
          "contourcarpet": [
           {
            "colorbar": {
             "outlinewidth": 0,
             "ticks": ""
            },
            "type": "contourcarpet"
           }
          ],
          "heatmap": [
           {
            "colorbar": {
             "outlinewidth": 0,
             "ticks": ""
            },
            "colorscale": [
             [
              0,
              "#0d0887"
             ],
             [
              0.1111111111111111,
              "#46039f"
             ],
             [
              0.2222222222222222,
              "#7201a8"
             ],
             [
              0.3333333333333333,
              "#9c179e"
             ],
             [
              0.4444444444444444,
              "#bd3786"
             ],
             [
              0.5555555555555556,
              "#d8576b"
             ],
             [
              0.6666666666666666,
              "#ed7953"
             ],
             [
              0.7777777777777778,
              "#fb9f3a"
             ],
             [
              0.8888888888888888,
              "#fdca26"
             ],
             [
              1,
              "#f0f921"
             ]
            ],
            "type": "heatmap"
           }
          ],
          "heatmapgl": [
           {
            "colorbar": {
             "outlinewidth": 0,
             "ticks": ""
            },
            "colorscale": [
             [
              0,
              "#0d0887"
             ],
             [
              0.1111111111111111,
              "#46039f"
             ],
             [
              0.2222222222222222,
              "#7201a8"
             ],
             [
              0.3333333333333333,
              "#9c179e"
             ],
             [
              0.4444444444444444,
              "#bd3786"
             ],
             [
              0.5555555555555556,
              "#d8576b"
             ],
             [
              0.6666666666666666,
              "#ed7953"
             ],
             [
              0.7777777777777778,
              "#fb9f3a"
             ],
             [
              0.8888888888888888,
              "#fdca26"
             ],
             [
              1,
              "#f0f921"
             ]
            ],
            "type": "heatmapgl"
           }
          ],
          "histogram": [
           {
            "marker": {
             "pattern": {
              "fillmode": "overlay",
              "size": 10,
              "solidity": 0.2
             }
            },
            "type": "histogram"
           }
          ],
          "histogram2d": [
           {
            "colorbar": {
             "outlinewidth": 0,
             "ticks": ""
            },
            "colorscale": [
             [
              0,
              "#0d0887"
             ],
             [
              0.1111111111111111,
              "#46039f"
             ],
             [
              0.2222222222222222,
              "#7201a8"
             ],
             [
              0.3333333333333333,
              "#9c179e"
             ],
             [
              0.4444444444444444,
              "#bd3786"
             ],
             [
              0.5555555555555556,
              "#d8576b"
             ],
             [
              0.6666666666666666,
              "#ed7953"
             ],
             [
              0.7777777777777778,
              "#fb9f3a"
             ],
             [
              0.8888888888888888,
              "#fdca26"
             ],
             [
              1,
              "#f0f921"
             ]
            ],
            "type": "histogram2d"
           }
          ],
          "histogram2dcontour": [
           {
            "colorbar": {
             "outlinewidth": 0,
             "ticks": ""
            },
            "colorscale": [
             [
              0,
              "#0d0887"
             ],
             [
              0.1111111111111111,
              "#46039f"
             ],
             [
              0.2222222222222222,
              "#7201a8"
             ],
             [
              0.3333333333333333,
              "#9c179e"
             ],
             [
              0.4444444444444444,
              "#bd3786"
             ],
             [
              0.5555555555555556,
              "#d8576b"
             ],
             [
              0.6666666666666666,
              "#ed7953"
             ],
             [
              0.7777777777777778,
              "#fb9f3a"
             ],
             [
              0.8888888888888888,
              "#fdca26"
             ],
             [
              1,
              "#f0f921"
             ]
            ],
            "type": "histogram2dcontour"
           }
          ],
          "mesh3d": [
           {
            "colorbar": {
             "outlinewidth": 0,
             "ticks": ""
            },
            "type": "mesh3d"
           }
          ],
          "parcoords": [
           {
            "line": {
             "colorbar": {
              "outlinewidth": 0,
              "ticks": ""
             }
            },
            "type": "parcoords"
           }
          ],
          "pie": [
           {
            "automargin": true,
            "type": "pie"
           }
          ],
          "scatter": [
           {
            "marker": {
             "line": {
              "color": "#283442"
             }
            },
            "type": "scatter"
           }
          ],
          "scatter3d": [
           {
            "line": {
             "colorbar": {
              "outlinewidth": 0,
              "ticks": ""
             }
            },
            "marker": {
             "colorbar": {
              "outlinewidth": 0,
              "ticks": ""
             }
            },
            "type": "scatter3d"
           }
          ],
          "scattercarpet": [
           {
            "marker": {
             "colorbar": {
              "outlinewidth": 0,
              "ticks": ""
             }
            },
            "type": "scattercarpet"
           }
          ],
          "scattergeo": [
           {
            "marker": {
             "colorbar": {
              "outlinewidth": 0,
              "ticks": ""
             }
            },
            "type": "scattergeo"
           }
          ],
          "scattergl": [
           {
            "marker": {
             "line": {
              "color": "#283442"
             }
            },
            "type": "scattergl"
           }
          ],
          "scattermapbox": [
           {
            "marker": {
             "colorbar": {
              "outlinewidth": 0,
              "ticks": ""
             }
            },
            "type": "scattermapbox"
           }
          ],
          "scatterpolar": [
           {
            "marker": {
             "colorbar": {
              "outlinewidth": 0,
              "ticks": ""
             }
            },
            "type": "scatterpolar"
           }
          ],
          "scatterpolargl": [
           {
            "marker": {
             "colorbar": {
              "outlinewidth": 0,
              "ticks": ""
             }
            },
            "type": "scatterpolargl"
           }
          ],
          "scatterternary": [
           {
            "marker": {
             "colorbar": {
              "outlinewidth": 0,
              "ticks": ""
             }
            },
            "type": "scatterternary"
           }
          ],
          "surface": [
           {
            "colorbar": {
             "outlinewidth": 0,
             "ticks": ""
            },
            "colorscale": [
             [
              0,
              "#0d0887"
             ],
             [
              0.1111111111111111,
              "#46039f"
             ],
             [
              0.2222222222222222,
              "#7201a8"
             ],
             [
              0.3333333333333333,
              "#9c179e"
             ],
             [
              0.4444444444444444,
              "#bd3786"
             ],
             [
              0.5555555555555556,
              "#d8576b"
             ],
             [
              0.6666666666666666,
              "#ed7953"
             ],
             [
              0.7777777777777778,
              "#fb9f3a"
             ],
             [
              0.8888888888888888,
              "#fdca26"
             ],
             [
              1,
              "#f0f921"
             ]
            ],
            "type": "surface"
           }
          ],
          "table": [
           {
            "cells": {
             "fill": {
              "color": "#506784"
             },
             "line": {
              "color": "rgb(17,17,17)"
             }
            },
            "header": {
             "fill": {
              "color": "#2a3f5f"
             },
             "line": {
              "color": "rgb(17,17,17)"
             }
            },
            "type": "table"
           }
          ]
         },
         "layout": {
          "annotationdefaults": {
           "arrowcolor": "#f2f5fa",
           "arrowhead": 0,
           "arrowwidth": 1
          },
          "autotypenumbers": "strict",
          "coloraxis": {
           "colorbar": {
            "outlinewidth": 0,
            "ticks": ""
           }
          },
          "colorscale": {
           "diverging": [
            [
             0,
             "#8e0152"
            ],
            [
             0.1,
             "#c51b7d"
            ],
            [
             0.2,
             "#de77ae"
            ],
            [
             0.3,
             "#f1b6da"
            ],
            [
             0.4,
             "#fde0ef"
            ],
            [
             0.5,
             "#f7f7f7"
            ],
            [
             0.6,
             "#e6f5d0"
            ],
            [
             0.7,
             "#b8e186"
            ],
            [
             0.8,
             "#7fbc41"
            ],
            [
             0.9,
             "#4d9221"
            ],
            [
             1,
             "#276419"
            ]
           ],
           "sequential": [
            [
             0,
             "#0d0887"
            ],
            [
             0.1111111111111111,
             "#46039f"
            ],
            [
             0.2222222222222222,
             "#7201a8"
            ],
            [
             0.3333333333333333,
             "#9c179e"
            ],
            [
             0.4444444444444444,
             "#bd3786"
            ],
            [
             0.5555555555555556,
             "#d8576b"
            ],
            [
             0.6666666666666666,
             "#ed7953"
            ],
            [
             0.7777777777777778,
             "#fb9f3a"
            ],
            [
             0.8888888888888888,
             "#fdca26"
            ],
            [
             1,
             "#f0f921"
            ]
           ],
           "sequentialminus": [
            [
             0,
             "#0d0887"
            ],
            [
             0.1111111111111111,
             "#46039f"
            ],
            [
             0.2222222222222222,
             "#7201a8"
            ],
            [
             0.3333333333333333,
             "#9c179e"
            ],
            [
             0.4444444444444444,
             "#bd3786"
            ],
            [
             0.5555555555555556,
             "#d8576b"
            ],
            [
             0.6666666666666666,
             "#ed7953"
            ],
            [
             0.7777777777777778,
             "#fb9f3a"
            ],
            [
             0.8888888888888888,
             "#fdca26"
            ],
            [
             1,
             "#f0f921"
            ]
           ]
          },
          "colorway": [
           "#636efa",
           "#EF553B",
           "#00cc96",
           "#ab63fa",
           "#FFA15A",
           "#19d3f3",
           "#FF6692",
           "#B6E880",
           "#FF97FF",
           "#FECB52"
          ],
          "font": {
           "color": "#f2f5fa"
          },
          "geo": {
           "bgcolor": "rgb(17,17,17)",
           "lakecolor": "rgb(17,17,17)",
           "landcolor": "rgb(17,17,17)",
           "showlakes": true,
           "showland": true,
           "subunitcolor": "#506784"
          },
          "hoverlabel": {
           "align": "left"
          },
          "hovermode": "closest",
          "mapbox": {
           "style": "dark"
          },
          "paper_bgcolor": "rgb(17,17,17)",
          "plot_bgcolor": "rgb(17,17,17)",
          "polar": {
           "angularaxis": {
            "gridcolor": "#506784",
            "linecolor": "#506784",
            "ticks": ""
           },
           "bgcolor": "rgb(17,17,17)",
           "radialaxis": {
            "gridcolor": "#506784",
            "linecolor": "#506784",
            "ticks": ""
           }
          },
          "scene": {
           "xaxis": {
            "backgroundcolor": "rgb(17,17,17)",
            "gridcolor": "#506784",
            "gridwidth": 2,
            "linecolor": "#506784",
            "showbackground": true,
            "ticks": "",
            "zerolinecolor": "#C8D4E3"
           },
           "yaxis": {
            "backgroundcolor": "rgb(17,17,17)",
            "gridcolor": "#506784",
            "gridwidth": 2,
            "linecolor": "#506784",
            "showbackground": true,
            "ticks": "",
            "zerolinecolor": "#C8D4E3"
           },
           "zaxis": {
            "backgroundcolor": "rgb(17,17,17)",
            "gridcolor": "#506784",
            "gridwidth": 2,
            "linecolor": "#506784",
            "showbackground": true,
            "ticks": "",
            "zerolinecolor": "#C8D4E3"
           }
          },
          "shapedefaults": {
           "line": {
            "color": "#f2f5fa"
           }
          },
          "sliderdefaults": {
           "bgcolor": "#C8D4E3",
           "bordercolor": "rgb(17,17,17)",
           "borderwidth": 1,
           "tickwidth": 0
          },
          "ternary": {
           "aaxis": {
            "gridcolor": "#506784",
            "linecolor": "#506784",
            "ticks": ""
           },
           "baxis": {
            "gridcolor": "#506784",
            "linecolor": "#506784",
            "ticks": ""
           },
           "bgcolor": "rgb(17,17,17)",
           "caxis": {
            "gridcolor": "#506784",
            "linecolor": "#506784",
            "ticks": ""
           }
          },
          "title": {
           "x": 0.05
          },
          "updatemenudefaults": {
           "bgcolor": "#506784",
           "borderwidth": 0
          },
          "xaxis": {
           "automargin": true,
           "gridcolor": "#283442",
           "linecolor": "#506784",
           "ticks": "",
           "title": {
            "standoff": 15
           },
           "zerolinecolor": "#283442",
           "zerolinewidth": 2
          },
          "yaxis": {
           "automargin": true,
           "gridcolor": "#283442",
           "linecolor": "#506784",
           "ticks": "",
           "title": {
            "standoff": 15
           },
           "zerolinecolor": "#283442",
           "zerolinewidth": 2
          }
         }
        },
        "title": {
         "text": "Producción de Contenido por País y ROI Promedio (15 Mas altos)",
         "x": 0.5,
         "xanchor": "center",
         "y": 0.9,
         "yanchor": "top"
        },
        "width": 1000,
        "xaxis": {
         "anchor": "y",
         "domain": [
          0,
          1
         ],
         "dtick": 500,
         "tick0": 0,
         "tickmode": "linear",
         "title": {
          "text": "Cantidad de Produccion"
         }
        },
        "yaxis": {
         "anchor": "x",
         "domain": [
          0,
          1
         ],
         "dtick": 0.5,
         "tick0": 0,
         "tickmode": "linear",
         "title": {
          "text": "ROI Promedio"
         }
        }
       }
      }
     },
     "metadata": {},
     "output_type": "display_data"
    }
   ],
   "source": [
    "from cgitb import text\n",
    "\n",
    "\n",
    "def pregunta_4():\n",
    "    \n",
    "    global df_title_basics, df_title_ratings, df_tmdb\n",
    "    \n",
    "    '''\n",
    "     se crea una copia del dF combierto los multiples datos en listas separado por coma ( , ) con assing y luego split\n",
    "     luego uso explode para poner cada valor de cada lista en la columna production countries.\n",
    "     y eliminar espacios en blanco con strip.\n",
    "    '''\n",
    "    df_tmdb_explode_country = df_tmdb.assign(production_countries=df_tmdb['production_countries'].str.split(',')).explode('production_countries').copy()\n",
    "    df_tmdb_explode_country['production_countries'] = df_tmdb_explode_country['production_countries'].str.strip() # eliminar espacios en blanco.\n",
    "\n",
    "\n",
    "    ''' \n",
    "      Agrupa por production_countries (produccion por pais), obtiene la media arimetica de la columna roi de cada agrupacion. \n",
    "      obtiene un conteo del total de producciones por pais y lo agrega a una nueva columna Count, la columna roi mostrara\n",
    "      la media arimetica de de produccion por pis y la columna production_countries mostrara el nombre de del pais \n",
    "    '''\n",
    "    df_tmdb_country_plot = df_tmdb_explode_country.groupby('production_countries').agg({'roi': 'mean', 'production_countries': 'count'})\n",
    "    df_tmdb_country_plot.rename(columns={'production_countries': 'Count'}, inplace=True)\n",
    "    \n",
    "    '''reset el indice para combertir  production country como en columna.\n",
    "       redondeo a 3 decimales\n",
    "       ordeno por la columna Count de mayor a menor.\n",
    "    '''\n",
    "    df_tmdb_country_plot = df_tmdb_country_plot.reset_index()\n",
    "    df_tmdb_country_plot['roi'] = round(df_tmdb_country_plot['roi'], 3)\n",
    "    df_tmdb_country_plot = df_tmdb_country_plot.sort_values('Count', ascending=False)\n",
    "    \n",
    "    # Crear columna % para las burbujas del grafico. \n",
    "    total_production = df_tmdb_country_plot['Count'].sum()\n",
    "    df_tmdb_country_plot['Porcentage'] = round((df_tmdb_country_plot['Count'] / total_production) * 100, 2).astype(str) + '%'\n",
    "   \n",
    "    \n",
    "    # Creo top 15 para solo mostrar en el grafico los 15 paises con mayor produccion \n",
    "    top_15_count = df_tmdb_country_plot.head(15)\n",
    "    \n",
    "\n",
    "    \n",
    "    # Creamos el grafico con plotly.\n",
    "    \n",
    "    fig_country = px.scatter(\n",
    "        top_15_count,\n",
    "        x='Count',\n",
    "        y='roi',\n",
    "        size='Count',\n",
    "        size_max=130,\n",
    "        color='roi',\n",
    "        hover_name='production_countries',\n",
    "        text='Porcentage', # Agregar los porcentajes como etiquetas\n",
    "        title='Producción de Contenido por País y ROI \"Promedio\"',\n",
    "        template='plotly_dark',\n",
    "        color_continuous_scale=px.colors.sequential.Viridis # escala de colores.\n",
    "    )   \n",
    "    \n",
    "    # ajustar el tamano de los percentagejes dentro de las bubujas ( tamano de text=)\n",
    "    def mapeo_size(count):\n",
    "        min_font = 5\n",
    "        max_font = 20\n",
    "        min_count = top_15_count['Count'].min()\n",
    "        max_count = top_15_count['Count'].max()\n",
    "        return np.interp(count, [min_count, max_count], [min_font, max_font])\n",
    "    \n",
    "    # Aplicar el mapeo de tamaño de fuente\n",
    "    font_sizes = [mapeo_size(count) for count in top_15_count['Count']]\n",
    "\n",
    "    fig_country.update_traces(\n",
    "        textposition='middle center',\n",
    "        textfont=dict(size=font_sizes, \n",
    "                      color='white',\n",
    "                      family='Arial Black'),\n",
    "        texttemplate='%{text}',\n",
    "        marker=dict(line=dict(width=1, color='black'))\n",
    "    )\n",
    "    \n",
    "    \n",
    "    fig_country.update_layout(\n",
    "        width=1000,\n",
    "        xaxis_title=\"Cantidad de Produccion\",\n",
    "        yaxis_title='ROI Promedio',\n",
    "        title={\n",
    "            'text': 'Producción de Contenido por País y ROI Promedio (15 Mas altos)',\n",
    "            'y':0.9,\n",
    "            'x':0.5,\n",
    "            'xanchor': 'center',\n",
    "            'yanchor': 'top'\n",
    "        },\n",
    "    \n",
    "        font=dict(size=12),\n",
    "        margin=dict(t=30,r=0, b=0, l=0),\n",
    "        xaxis=dict(\n",
    "            tickmode=\"linear\",\n",
    "            tick0=0,\n",
    "            dtick=500),\n",
    "        yaxis=dict(\n",
    "            tickmode='linear',\n",
    "            tick0=0,\n",
    "            dtick=0.5)\n",
    "    )\n",
    "          \n",
    "    fig_country.show()\n",
    "    \n",
    "pregunta_4()\n",
    "    "
   ]
  },
  {
   "cell_type": "markdown",
   "metadata": {},
   "source": [
    "Este grafico representa los 15 países con mayor produccion de contenido en peliculas y series de tv.\n",
    "El tamaño de la burbuja es proporcional a la cantidad de producciones, por lo que las burbujas más grandes representan los\n",
    "países con más producciones.\n",
    "\n"
   ]
  },
  {
   "cell_type": "markdown",
   "metadata": {},
   "source": [
    "-------------------------------------------------------------------------------------------------------------------------------"
   ]
  },
  {
   "cell_type": "markdown",
   "metadata": {},
   "source": [
    "¿Cual es tu recomendación para el cliente?\n",
    "\n",
    "La plataforma de streaming debería enfocarse en mantener una alta producción en géneros populares y bien valorados, \n",
    "mientras incrementa la inversión en géneros y mercados menos saturados pero altamente rentables. \n",
    "Al optimizar el ROI y diversificar el contenido, la plataforma puede maximizar su atractivo para los espectadores y asegurar \n",
    "un crecimiento sostenible y rentable.\n",
    "\n",
    "Enfoque en Series de Televisión:\n",
    "La plataforma debería centrarse más en las series de televisión que en las películas, ya que, a pesar de tener una menor\n",
    "producción, las series muestran un rating más estable y una mejor aceptación por parte del público a lo largo de los años.\n",
    "Sin embargo, no se debe perder de vista las películas, ya que desde 2020 han mostrado un incremento notable en la aceptación\n",
    "del público, reflejado en su rating.\n",
    "\n",
    "Impacto del COVID-19:\n",
    "Es importante considerar el impacto del COVID-19, que comenzó en 2020. Las restricciones y el confinamiento, junto con la mayor\n",
    "disponibilidad de tiempo libre y la búsqueda de nuevas formas de entretenimiento, probablemente contribuyeron a este cambio en \n",
    "la aceptación de las películas. Es posible que en unos años, los ratings de las películas vuelvan a bajar, mientras que las \n",
    "series han mostrado una consistencia en ratings superiores a los 7 puntos durante los años.\n",
    "\n",
    "Géneros Recomendados:\n",
    "Para incluir en la plataforma, se recomienda enfocarse en géneros con mayor aceptación del público, tales como:\n",
    "- Musicales\n",
    "- Drama\n",
    "- Comedia\n",
    "- Guerra\n",
    "- Misterio\n",
    "\n",
    "La diversidad es buena, pero es esencial centrarse en los géneros que gozan de mayor aceptación por parte del público. \n",
    "Tener producciones con mayores ratings atraerá nuevos usuarios y mantendrá a los ya existentes.\n",
    "\n",
    "Inversión en Producción:\n",
    "Los géneros con mayor ROI son:\n",
    "- Aventura\n",
    "- Ciencia Ficción\n",
    "- Animación\n",
    "- Acción\n",
    "- Fantasía\n",
    "- Guerra\n",
    "\n",
    "Exploración de Nuevos Mercados:\n",
    "Se debe invertir en países que aún no están completamente explotados, pero que tienen un alto ROI en sus producciones, como:\n",
    "- India\n",
    "- Corea del Sur\n",
    "- China\n",
    "\n",
    "Enfoque en Mercados Predominantes:\n",
    "Sin perder de vista los mercados predominantes como:\n",
    "- Estados Unidos\n",
    "- Reino Unido\n",
    "- Francia\n",
    "\n",
    "Conclusión:\n",
    "La plataforma de streaming debería centrarse en la producción de series de televisión debido a su rating estable y alta \n",
    "aceptación a lo largo del tiempo, sin desatender el incremento reciente en la aceptación de las películas. En cuanto a los \n",
    "géneros, la plataforma debería enfocarse en aquellos con mayor aceptación y ROI. Además, explorar nuevos mercados con alto ROI \n",
    "y mantener una presencia fuerte en los mercados predominantes garantizará un crecimiento sostenible y rentable."
   ]
  }
 ],
 "metadata": {
  "kernelspec": {
   "display_name": "Python 3",
   "language": "python",
   "name": "python3"
  },
  "language_info": {
   "codemirror_mode": {
    "name": "ipython",
    "version": 3
   },
   "file_extension": ".py",
   "mimetype": "text/x-python",
   "name": "python",
   "nbconvert_exporter": "python",
   "pygments_lexer": "ipython3",
   "version": "3.12.0"
  }
 },
 "nbformat": 4,
 "nbformat_minor": 2
}
